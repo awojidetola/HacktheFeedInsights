{
 "cells": [
  {
   "cell_type": "markdown",
   "metadata": {},
   "source": [
    "# Hack the Feed : Insights from Social Media Data\n",
    "_By Margaret Awojide_"
   ]
  },
  {
   "cell_type": "code",
   "execution_count": 589,
   "metadata": {},
   "outputs": [],
   "source": [
    "import numpy as np #Numerical Computations \n",
    "import pandas as pd #Data Manipulation and Analysis\n",
    "from scipy.stats import f_oneway #Statistical Analysis\n",
    "\n",
    "#Data Visualization\n",
    "import matplotlib.pyplot as plt\n",
    "import matplotlib.dates as mdates\n",
    "from matplotlib.ticker import FuncFormatter\n",
    "\n",
    "#Time Series Forecasting\n",
    "from statsmodels.tsa.stattools import adfuller\n",
    "from statsmodels.graphics.tsaplots import plot_acf, plot_pacf\n",
    "from statsmodels.tsa.arima.model import ARIMA\n",
    "from sklearn.metrics import mean_squared_error\n",
    "from pmdarima.arima import auto_arima\n",
    "\n",
    "\n",
    "\n",
    "\n",
    "\n",
    "import warnings\n",
    "warnings.filterwarnings(\"ignore\")"
   ]
  },
  {
   "cell_type": "code",
   "execution_count": 590,
   "metadata": {},
   "outputs": [],
   "source": [
    "link_df = pd.read_csv(\"Post Performance (Stanbic IBTC) January 1, 2013 - July 13, 2023_LinkedIn.csv\")\n",
    "tweet_df = pd.read_csv(\"Post Performance (Stanbic IBTC) January 1, 2013 - July 13, 2023_Twitter.csv\")\n",
    "face_df = pd.read_csv(\"Post Performance (Stanbic IBTC) January 1, 2013 - July 13, 2023_Facebook.csv\")\n",
    "insta_df = pd.read_csv(\"Post Performance (Stanbic IBTC) January 1, 2013 - July 13, 2023_Instagram.csv\")"
   ]
  },
  {
   "cell_type": "markdown",
   "metadata": {},
   "source": [
    "## Data Cleaning\n",
    "\n",
    "This section applies the use of various functions (including custom functions) to clean and transform the data for further analysis.\n",
    "\n",
    "The following is constant across all the social media platforms: \n",
    "+ Network : Twitter\n",
    "+ Profile : Stanbic IBTC Bank\n",
    "+ Reactions is the same as LIkes\n",
    "+ Impressions is the same as organic impressions"
   ]
  },
  {
   "cell_type": "code",
   "execution_count": 591,
   "metadata": {},
   "outputs": [],
   "source": [
    "def remove_80_missing(df):\n",
    "    '''\n",
    "    This function is used to remove columns where 80% and above of its entries are missing.\n",
    "    Input : DataFrame\n",
    "    Output: Dataframe excluding those columns\n",
    "    '''\n",
    "    list1 = []\n",
    "    for i in df.columns:\n",
    "        x = df[i].isnull().sum()\n",
    "        y = df.shape[0]\n",
    "        if (x/y) >= 0.8:\n",
    "            list1.append(i)\n",
    "    df = df.drop(list1,axis=1)\n",
    "    return df"
   ]
  },
  {
   "cell_type": "code",
   "execution_count": 592,
   "metadata": {},
   "outputs": [],
   "source": [
    "def text_numeric(df, column, delimeter = \",\", replacement = \"\", conversion=\"float\"):\n",
    "    '''\n",
    "    This function converts strings that should be numerics to integers. It is especially made for strings with special characters.\n",
    "    '''\n",
    "    df[column] = pd.to_numeric(df[column].str.replace(delimeter, replacement), errors='coerce', downcast=conversion)\n",
    "    return df[column]\n"
   ]
  },
  {
   "cell_type": "code",
   "execution_count": 593,
   "metadata": {},
   "outputs": [],
   "source": [
    "def transform_datetime(df, column):\n",
    "    '''\n",
    "    This function is used to transform the date column from string to the standard date time format and to extract the weekdays and hours from the dates.\n",
    "    '''\n",
    "    df[column] = pd.to_datetime(df[column], format = '%m/%d/%Y %I:%M %p')\n",
    "    df[\"Weekday\"] = df[column].dt.day_name()\n",
    "    df['Time'] = df[column].dt.hour\n",
    "    return df"
   ]
  },
  {
   "cell_type": "code",
   "execution_count": 594,
   "metadata": {},
   "outputs": [],
   "source": [
    "def remove_columns (df, columns=[]):\n",
    "    df = df.drop(columns, axis = 1)\n",
    "    return df"
   ]
  },
  {
   "cell_type": "markdown",
   "metadata": {},
   "source": [
    "#### Twitter"
   ]
  },
  {
   "cell_type": "code",
   "execution_count": 595,
   "metadata": {},
   "outputs": [],
   "source": [
    "tweet_df = remove_80_missing(tweet_df)\n",
    "tweet_df = transform_datetime(tweet_df, \"Date\")\n",
    "tweet_df = remove_columns(tweet_df, columns = [\"Network\", \"Post Type\", \"Profile\", \"Reactions\", \"App Opens\", \"App Install Attempts\", \"App Engagements\", \"Organic Impressions\"])"
   ]
  },
  {
   "cell_type": "code",
   "execution_count": 596,
   "metadata": {},
   "outputs": [],
   "source": [
    "#Numeric Columns with Object Datatype were correctly changed.\n",
    "\n",
    "#For % as delimeter\n",
    "tweet_df[\"Engagement Rate (per Impression)\"] = text_numeric(tweet_df, \"Engagement Rate (per Impression)\", delimeter=\"%\")\n",
    "tweet_df[\"Click-Through Rate\"] = text_numeric(tweet_df, \"Click-Through Rate\", delimeter = \"%\")\n",
    "\n",
    "# For , as delimeter\n",
    "object_numeric = [\"Impressions\",\"Engagements\", \"Likes\", \"Shares\", \n",
    "                  \"Post Detail Expand Clicks\", \"Other Engagements\", \"Media Views\",\n",
    "                  \"Other Post Clicks\", \"Post Clicks (All)\", \"Post Media Clicks\",\"Potential Reach\"]\n",
    "\n",
    "for i in object_numeric:\n",
    "    tweet_df[i] = text_numeric(tweet_df, i)"
   ]
  },
  {
   "cell_type": "markdown",
   "metadata": {},
   "source": [
    "#### Facebook"
   ]
  },
  {
   "cell_type": "code",
   "execution_count": 597,
   "metadata": {},
   "outputs": [],
   "source": [
    "face_df = remove_80_missing(face_df)\n",
    "face_df = transform_datetime(face_df, \"Date\")\n",
    "face_df = remove_columns(face_df, columns = [\"Network\", \"Post Type\", \"Profile\", \"Link\", \"Linked Content\", \"Reactions\"])"
   ]
  },
  {
   "cell_type": "code",
   "execution_count": 598,
   "metadata": {},
   "outputs": [],
   "source": [
    "face_df = face_df.drop(['Organic Impressions', \"Viral Impressions\", \"Non-viral Impressions\", \"Paid Impressions\",\n",
    "              \"Fan Impressions\", \"Fan Organic Impressions\", \"Fan Paid Impressions\", \"Non-fan Impressions\",\n",
    "              \"Non-fan Organic Impressions\",\"Non-fan Paid Impressions\",'Organic Reach', 'Viral Reach', \n",
    "              'Non-viral Reach', 'Paid Reach','Fan Reach', 'Fan Paid Reach', 'Answers'],1)"
   ]
  },
  {
   "cell_type": "code",
   "execution_count": 599,
   "metadata": {},
   "outputs": [],
   "source": [
    "#Numeric Columns with Object Datatype were correctly changed.\n",
    "\n",
    "#For % as delimeter\n",
    "face_df[\"Engagement Rate (per Impression)\"] = text_numeric(face_df, \"Engagement Rate (per Impression)\", delimeter=\"%\")\n",
    "face_df[\"Click-Through Rate\"] = text_numeric(face_df, \"Click-Through Rate\", delimeter = \"%\")\n",
    "face_df[\"Engagement Rate (per Reach)\"] = text_numeric(face_df, \"Engagement Rate (per Reach)\", delimeter=\"%\")\n",
    "\n",
    "# For , as delimeter\n",
    "object_numeric = [\"Impressions\",\"Reach\", \"Likes\", \"Comments\"]\n",
    "\n",
    "for i in object_numeric:\n",
    "    face_df[i] = text_numeric(face_df, i)"
   ]
  },
  {
   "cell_type": "code",
   "execution_count": 600,
   "metadata": {},
   "outputs": [],
   "source": [
    "face_df['Positive Reactions'] = face_df[\"Likes\"] + face_df['Love Reactions'] + face_df[\"Haha Reactions\"] + face_df[\"Wow Reactions\"]\n",
    "face_df[\"Negative Reactions\"] = face_df[\"Sad Reactions\"] + face_df[\"Angry Reactions\"]\n",
    "face_df = remove_columns(face_df, columns = [\"Haha Reactions\", \"Wow Reactions\", \"Love Reactions\", \"Sad Reactions\", \"Angry Reactions\"])"
   ]
  },
  {
   "cell_type": "markdown",
   "metadata": {},
   "source": [
    "### Instagram"
   ]
  },
  {
   "cell_type": "code",
   "execution_count": 601,
   "metadata": {},
   "outputs": [],
   "source": [
    "insta_df = remove_80_missing(insta_df)\n",
    "insta_df = transform_datetime(insta_df, \"Date\")\n",
    "insta_df = remove_columns(insta_df, [\"Organic Impressions\", \"Reactions\", \"Network\", \"Profile\", \"Organic Reach\"])"
   ]
  },
  {
   "cell_type": "code",
   "execution_count": 602,
   "metadata": {},
   "outputs": [],
   "source": [
    "insta_df[\"Engagement Rate (per Impression)\"] = text_numeric(insta_df, \"Engagement Rate (per Impression)\", delimeter=\"%\")\n",
    "insta_df[\"Engagement Rate (per Reach)\"] = text_numeric(insta_df, \"Engagement Rate (per Reach)\", delimeter=\"%\")\n",
    "\n",
    "# For , as delimeter\n",
    "object_numeric = [\"Impressions\",\"Reach\", \"Likes\", \"Comments\"]\n",
    "\n",
    "for i in object_numeric:\n",
    "    insta_df[i] = text_numeric(insta_df, i)"
   ]
  },
  {
   "cell_type": "markdown",
   "metadata": {},
   "source": [
    "### Linkdeln"
   ]
  },
  {
   "cell_type": "code",
   "execution_count": 603,
   "metadata": {},
   "outputs": [],
   "source": [
    "link_df = remove_80_missing(link_df)\n",
    "link_df = transform_datetime(link_df, \"Date\")\n",
    "#Tags, Organic Impressions, Reactions, Post Clicks (All), Network, Profile\n",
    "link_df = remove_columns(link_df, columns = ['Tags', 'Organic Impressions', 'Reactions',\n",
    "                                             'Post Clicks (All)', 'Network', 'Profile'])\n",
    "link_df = transform_datetime(link_df, \"Date\")"
   ]
  },
  {
   "cell_type": "code",
   "execution_count": 604,
   "metadata": {},
   "outputs": [],
   "source": [
    "link_df[\"Engagement Rate (per Impression)\"] = text_numeric(link_df, \"Engagement Rate (per Impression)\", delimeter=\"%\")\n",
    "link_df[\"Click-Through Rate\"] = text_numeric(link_df, \"Click-Through Rate\", delimeter=\"%\")\n",
    "\n",
    "# For , as delimeter\n",
    "object_numeric = [\"Impressions\",\"Engagements\", \"Post Link Clicks\"]\n",
    "\n",
    "for i in object_numeric:\n",
    "    insta_df[i] = text_numeric(link_df, i)"
   ]
  },
  {
   "cell_type": "code",
   "execution_count": 605,
   "metadata": {},
   "outputs": [
    {
     "data": {
      "text/plain": [
       "Index(['Date', 'Post ID', 'Content Type', 'Sent by', 'Post', 'Impressions',\n",
       "       'Reach', 'Engagement Rate (per Impression)',\n",
       "       'Engagement Rate (per Reach)', 'Engagements', 'Likes', 'Comments',\n",
       "       'Shares', 'Click-Through Rate', 'Other Post Clicks',\n",
       "       'Post Clicks (All)', 'Post Photo View Clicks', 'Negative Feedback',\n",
       "       'Engaged Users', 'Engaged Fans', 'Users Talking About This',\n",
       "       'Unique Reactions', 'Unique Comments', 'Unique Shares',\n",
       "       'Unique Answers', 'Unique Post Clicks', 'Unique Post Photo View Clicks',\n",
       "       'Unique Other Post Clicks', 'Unique Negative Feedback', 'Weekday',\n",
       "       'Time', 'Positive Reactions', 'Negative Reactions'],\n",
       "      dtype='object')"
      ]
     },
     "execution_count": 605,
     "metadata": {},
     "output_type": "execute_result"
    }
   ],
   "source": [
    "face_df.columns"
   ]
  },
  {
   "cell_type": "markdown",
   "metadata": {},
   "source": [
    "## Data Exploration\n",
    "This section analyzes the data to draw initial insights from the data. It is also the bedrock for future statistical analysis, NLP and time series analysis"
   ]
  },
  {
   "cell_type": "markdown",
   "metadata": {},
   "source": [
    "### Twitter"
   ]
  },
  {
   "cell_type": "code",
   "execution_count": 606,
   "metadata": {},
   "outputs": [
    {
     "data": {
      "text/plain": [
       "Photo    6213\n",
       "Text     1018\n",
       "Video     883\n",
       "Link      415\n",
       "Name: Content Type, dtype: int64"
      ]
     },
     "execution_count": 606,
     "metadata": {},
     "output_type": "execute_result"
    }
   ],
   "source": [
    "tweet_df['Content Type'].value_counts().sort_values(ascending=False) #There are more picture posts than other content categories"
   ]
  },
  {
   "cell_type": "code",
   "execution_count": 607,
   "metadata": {},
   "outputs": [
    {
     "data": {
      "text/plain": [
       "Index(['Date', 'Post ID', 'Content Type', 'Sent by', 'Link', 'Post',\n",
       "       'Linked Content', 'Impressions', 'Potential Reach',\n",
       "       'Engagement Rate (per Impression)', 'Engagements', 'Likes', 'Comments',\n",
       "       'Shares', 'Click-Through Rate', 'Post Link Clicks', 'Other Post Clicks',\n",
       "       'Post Clicks (All)', 'Post Media Clicks', 'Post Hashtag Clicks',\n",
       "       'Post Detail Expand Clicks', 'Profile Clicks', 'Other Engagements',\n",
       "       'Follows from Post', 'Unfollows from Post', 'Media Views', 'Weekday',\n",
       "       'Time'],\n",
       "      dtype='object')"
      ]
     },
     "execution_count": 607,
     "metadata": {},
     "output_type": "execute_result"
    }
   ],
   "source": [
    "tweet_df.columns"
   ]
  },
  {
   "cell_type": "code",
   "execution_count": 608,
   "metadata": {},
   "outputs": [
    {
     "data": {
      "text/html": [
       "<div>\n",
       "<style scoped>\n",
       "    .dataframe tbody tr th:only-of-type {\n",
       "        vertical-align: middle;\n",
       "    }\n",
       "\n",
       "    .dataframe tbody tr th {\n",
       "        vertical-align: top;\n",
       "    }\n",
       "\n",
       "    .dataframe thead th {\n",
       "        text-align: right;\n",
       "    }\n",
       "</style>\n",
       "<table border=\"1\" class=\"dataframe\">\n",
       "  <thead>\n",
       "    <tr style=\"text-align: right;\">\n",
       "      <th></th>\n",
       "      <th>Impressions</th>\n",
       "      <th>Engagement Rate (per Impression)</th>\n",
       "      <th>Potential Reach</th>\n",
       "      <th>Likes</th>\n",
       "      <th>Comments</th>\n",
       "      <th>Shares</th>\n",
       "    </tr>\n",
       "    <tr>\n",
       "      <th>Content Type</th>\n",
       "      <th></th>\n",
       "      <th></th>\n",
       "      <th></th>\n",
       "      <th></th>\n",
       "      <th></th>\n",
       "      <th></th>\n",
       "    </tr>\n",
       "  </thead>\n",
       "  <tbody>\n",
       "    <tr>\n",
       "      <th>Link</th>\n",
       "      <td>1997.767944</td>\n",
       "      <td>2.197536</td>\n",
       "      <td>236537.937500</td>\n",
       "      <td>9.006667</td>\n",
       "      <td>1.833811</td>\n",
       "      <td>9.559184</td>\n",
       "    </tr>\n",
       "    <tr>\n",
       "      <th>Photo</th>\n",
       "      <td>3376.817139</td>\n",
       "      <td>2.983351</td>\n",
       "      <td>285375.187500</td>\n",
       "      <td>21.887001</td>\n",
       "      <td>6.668621</td>\n",
       "      <td>14.587908</td>\n",
       "    </tr>\n",
       "    <tr>\n",
       "      <th>Text</th>\n",
       "      <td>2609.051514</td>\n",
       "      <td>1.978822</td>\n",
       "      <td>229914.640625</td>\n",
       "      <td>8.927135</td>\n",
       "      <td>4.878719</td>\n",
       "      <td>6.828886</td>\n",
       "    </tr>\n",
       "    <tr>\n",
       "      <th>Video</th>\n",
       "      <td>2982.329590</td>\n",
       "      <td>3.689060</td>\n",
       "      <td>322949.031250</td>\n",
       "      <td>28.506128</td>\n",
       "      <td>6.582418</td>\n",
       "      <td>17.458149</td>\n",
       "    </tr>\n",
       "  </tbody>\n",
       "</table>\n",
       "</div>"
      ],
      "text/plain": [
       "              Impressions  Engagement Rate (per Impression)  Potential Reach  \\\n",
       "Content Type                                                                   \n",
       "Link          1997.767944                          2.197536    236537.937500   \n",
       "Photo         3376.817139                          2.983351    285375.187500   \n",
       "Text          2609.051514                          1.978822    229914.640625   \n",
       "Video         2982.329590                          3.689060    322949.031250   \n",
       "\n",
       "                  Likes  Comments     Shares  \n",
       "Content Type                                  \n",
       "Link           9.006667  1.833811   9.559184  \n",
       "Photo         21.887001  6.668621  14.587908  \n",
       "Text           8.927135  4.878719   6.828886  \n",
       "Video         28.506128  6.582418  17.458149  "
      ]
     },
     "execution_count": 608,
     "metadata": {},
     "output_type": "execute_result"
    }
   ],
   "source": [
    "tweet_df.groupby('Content Type')[['Impressions', 'Engagement Rate (per Impression)', 'Potential Reach', 'Likes','Comments','Shares']].mean() \n",
    "\n",
    "#In general posts with videos have more engagement and potential reach than the rest of the content type."
   ]
  },
  {
   "cell_type": "code",
   "execution_count": 609,
   "metadata": {},
   "outputs": [
    {
     "data": {
      "text/plain": [
       "                     4240\n",
       "Sophia Amuka         3250\n",
       "Aramide Salami        541\n",
       "Blessing Ubah         251\n",
       "Kemi Amoo              92\n",
       "Dunni Ogunsanya        76\n",
       "Damilare Oyekanmi      71\n",
       "Patience Nnaji          3\n",
       "Lilian Ibekwe           2\n",
       "Rebecca Oyebode         1\n",
       "Kanayo Obiano           1\n",
       "Philip Nwagwunor        1\n",
       "Name: Sent by, dtype: int64"
      ]
     },
     "execution_count": 609,
     "metadata": {},
     "output_type": "execute_result"
    }
   ],
   "source": [
    "tweet_df['Sent by'].value_counts()"
   ]
  },
  {
   "cell_type": "code",
   "execution_count": 610,
   "metadata": {},
   "outputs": [
    {
     "data": {
      "text/html": [
       "<div>\n",
       "<style scoped>\n",
       "    .dataframe tbody tr th:only-of-type {\n",
       "        vertical-align: middle;\n",
       "    }\n",
       "\n",
       "    .dataframe tbody tr th {\n",
       "        vertical-align: top;\n",
       "    }\n",
       "\n",
       "    .dataframe thead th {\n",
       "        text-align: right;\n",
       "    }\n",
       "</style>\n",
       "<table border=\"1\" class=\"dataframe\">\n",
       "  <thead>\n",
       "    <tr style=\"text-align: right;\">\n",
       "      <th></th>\n",
       "      <th>Impressions</th>\n",
       "      <th>Engagement Rate (per Impression)</th>\n",
       "      <th>Potential Reach</th>\n",
       "      <th>Likes</th>\n",
       "      <th>Comments</th>\n",
       "      <th>Shares</th>\n",
       "    </tr>\n",
       "    <tr>\n",
       "      <th>Sent by</th>\n",
       "      <th></th>\n",
       "      <th></th>\n",
       "      <th></th>\n",
       "      <th></th>\n",
       "      <th></th>\n",
       "      <th></th>\n",
       "    </tr>\n",
       "  </thead>\n",
       "  <tbody>\n",
       "    <tr>\n",
       "      <th></th>\n",
       "      <td>3250.115234</td>\n",
       "      <td>2.787929</td>\n",
       "      <td>252794.515625</td>\n",
       "      <td>19.977854</td>\n",
       "      <td>4.302866</td>\n",
       "      <td>13.291037</td>\n",
       "    </tr>\n",
       "    <tr>\n",
       "      <th>Aramide Salami</th>\n",
       "      <td>3573.784668</td>\n",
       "      <td>2.745963</td>\n",
       "      <td>268818.656250</td>\n",
       "      <td>18.846790</td>\n",
       "      <td>4.989648</td>\n",
       "      <td>9.993220</td>\n",
       "    </tr>\n",
       "    <tr>\n",
       "      <th>Blessing Ubah</th>\n",
       "      <td>2065.902832</td>\n",
       "      <td>2.859069</td>\n",
       "      <td>335023.343750</td>\n",
       "      <td>11.902834</td>\n",
       "      <td>7.578947</td>\n",
       "      <td>NaN</td>\n",
       "    </tr>\n",
       "    <tr>\n",
       "      <th>Damilare Oyekanmi</th>\n",
       "      <td>2880.926514</td>\n",
       "      <td>5.801029</td>\n",
       "      <td>357375.718750</td>\n",
       "      <td>49.455883</td>\n",
       "      <td>13.441176</td>\n",
       "      <td>NaN</td>\n",
       "    </tr>\n",
       "    <tr>\n",
       "      <th>Dunni Ogunsanya</th>\n",
       "      <td>2076.560547</td>\n",
       "      <td>2.309545</td>\n",
       "      <td>221681.656250</td>\n",
       "      <td>5.446154</td>\n",
       "      <td>0.727273</td>\n",
       "      <td>7.461538</td>\n",
       "    </tr>\n",
       "    <tr>\n",
       "      <th>Kanayo Obiano</th>\n",
       "      <td>28.000000</td>\n",
       "      <td>0.000000</td>\n",
       "      <td>NaN</td>\n",
       "      <td>0.000000</td>\n",
       "      <td>0.000000</td>\n",
       "      <td>NaN</td>\n",
       "    </tr>\n",
       "    <tr>\n",
       "      <th>Kemi Amoo</th>\n",
       "      <td>3269.277832</td>\n",
       "      <td>3.347667</td>\n",
       "      <td>330310.687500</td>\n",
       "      <td>23.444445</td>\n",
       "      <td>8.444444</td>\n",
       "      <td>NaN</td>\n",
       "    </tr>\n",
       "    <tr>\n",
       "      <th>Lilian Ibekwe</th>\n",
       "      <td>33.500000</td>\n",
       "      <td>9.880000</td>\n",
       "      <td>NaN</td>\n",
       "      <td>1.000000</td>\n",
       "      <td>0.500000</td>\n",
       "      <td>NaN</td>\n",
       "    </tr>\n",
       "    <tr>\n",
       "      <th>Patience Nnaji</th>\n",
       "      <td>878.000000</td>\n",
       "      <td>0.680000</td>\n",
       "      <td>178429.000000</td>\n",
       "      <td>1.000000</td>\n",
       "      <td>0.000000</td>\n",
       "      <td>1.000000</td>\n",
       "    </tr>\n",
       "    <tr>\n",
       "      <th>Philip Nwagwunor</th>\n",
       "      <td>19.000000</td>\n",
       "      <td>10.530000</td>\n",
       "      <td>NaN</td>\n",
       "      <td>0.000000</td>\n",
       "      <td>2.000000</td>\n",
       "      <td>NaN</td>\n",
       "    </tr>\n",
       "    <tr>\n",
       "      <th>Rebecca Oyebode</th>\n",
       "      <td>8.000000</td>\n",
       "      <td>12.500000</td>\n",
       "      <td>NaN</td>\n",
       "      <td>1.000000</td>\n",
       "      <td>0.000000</td>\n",
       "      <td>NaN</td>\n",
       "    </tr>\n",
       "    <tr>\n",
       "      <th>Sophia Amuka</th>\n",
       "      <td>3179.041504</td>\n",
       "      <td>3.011093</td>\n",
       "      <td>312540.312500</td>\n",
       "      <td>22.193153</td>\n",
       "      <td>8.496859</td>\n",
       "      <td>14.270417</td>\n",
       "    </tr>\n",
       "  </tbody>\n",
       "</table>\n",
       "</div>"
      ],
      "text/plain": [
       "                   Impressions  Engagement Rate (per Impression)  \\\n",
       "Sent by                                                            \n",
       "                   3250.115234                          2.787929   \n",
       "Aramide Salami     3573.784668                          2.745963   \n",
       "Blessing Ubah      2065.902832                          2.859069   \n",
       "Damilare Oyekanmi  2880.926514                          5.801029   \n",
       "Dunni Ogunsanya    2076.560547                          2.309545   \n",
       "Kanayo Obiano        28.000000                          0.000000   \n",
       "Kemi Amoo          3269.277832                          3.347667   \n",
       "Lilian Ibekwe        33.500000                          9.880000   \n",
       "Patience Nnaji      878.000000                          0.680000   \n",
       "Philip Nwagwunor     19.000000                         10.530000   \n",
       "Rebecca Oyebode       8.000000                         12.500000   \n",
       "Sophia Amuka       3179.041504                          3.011093   \n",
       "\n",
       "                   Potential Reach      Likes   Comments     Shares  \n",
       "Sent by                                                              \n",
       "                     252794.515625  19.977854   4.302866  13.291037  \n",
       "Aramide Salami       268818.656250  18.846790   4.989648   9.993220  \n",
       "Blessing Ubah        335023.343750  11.902834   7.578947        NaN  \n",
       "Damilare Oyekanmi    357375.718750  49.455883  13.441176        NaN  \n",
       "Dunni Ogunsanya      221681.656250   5.446154   0.727273   7.461538  \n",
       "Kanayo Obiano                  NaN   0.000000   0.000000        NaN  \n",
       "Kemi Amoo            330310.687500  23.444445   8.444444        NaN  \n",
       "Lilian Ibekwe                  NaN   1.000000   0.500000        NaN  \n",
       "Patience Nnaji       178429.000000   1.000000   0.000000   1.000000  \n",
       "Philip Nwagwunor               NaN   0.000000   2.000000        NaN  \n",
       "Rebecca Oyebode                NaN   1.000000   0.000000        NaN  \n",
       "Sophia Amuka         312540.312500  22.193153   8.496859  14.270417  "
      ]
     },
     "execution_count": 610,
     "metadata": {},
     "output_type": "execute_result"
    }
   ],
   "source": [
    "tweet_df.groupby('Sent by')[['Impressions', 'Engagement Rate (per Impression)', 'Potential Reach', 'Likes','Comments','Shares']].mean() "
   ]
  },
  {
   "cell_type": "code",
   "execution_count": 611,
   "metadata": {},
   "outputs": [
    {
     "data": {
      "text/plain": [
       "Friday       1482\n",
       "Thursday     1417\n",
       "Wednesday    1329\n",
       "Tuesday      1278\n",
       "Monday       1227\n",
       "Saturday     1162\n",
       "Sunday        634\n",
       "Name: Weekday, dtype: int64"
      ]
     },
     "execution_count": 611,
     "metadata": {},
     "output_type": "execute_result"
    }
   ],
   "source": [
    "tweet_df['Weekday'].value_counts().sort_values(ascending=False)"
   ]
  },
  {
   "cell_type": "code",
   "execution_count": 612,
   "metadata": {},
   "outputs": [
    {
     "data": {
      "text/html": [
       "<div>\n",
       "<style scoped>\n",
       "    .dataframe tbody tr th:only-of-type {\n",
       "        vertical-align: middle;\n",
       "    }\n",
       "\n",
       "    .dataframe tbody tr th {\n",
       "        vertical-align: top;\n",
       "    }\n",
       "\n",
       "    .dataframe thead th {\n",
       "        text-align: right;\n",
       "    }\n",
       "</style>\n",
       "<table border=\"1\" class=\"dataframe\">\n",
       "  <thead>\n",
       "    <tr style=\"text-align: right;\">\n",
       "      <th></th>\n",
       "      <th>Impressions</th>\n",
       "      <th>Engagement Rate (per Impression)</th>\n",
       "      <th>Potential Reach</th>\n",
       "      <th>Likes</th>\n",
       "      <th>Comments</th>\n",
       "      <th>Shares</th>\n",
       "    </tr>\n",
       "    <tr>\n",
       "      <th>Weekday</th>\n",
       "      <th></th>\n",
       "      <th></th>\n",
       "      <th></th>\n",
       "      <th></th>\n",
       "      <th></th>\n",
       "      <th></th>\n",
       "    </tr>\n",
       "  </thead>\n",
       "  <tbody>\n",
       "    <tr>\n",
       "      <th>Friday</th>\n",
       "      <td>3062.318359</td>\n",
       "      <td>2.873214</td>\n",
       "      <td>276776.59375</td>\n",
       "      <td>17.105783</td>\n",
       "      <td>5.506696</td>\n",
       "      <td>11.209702</td>\n",
       "    </tr>\n",
       "    <tr>\n",
       "      <th>Monday</th>\n",
       "      <td>3167.087646</td>\n",
       "      <td>2.899850</td>\n",
       "      <td>279306.65625</td>\n",
       "      <td>30.239130</td>\n",
       "      <td>5.816092</td>\n",
       "      <td>16.702335</td>\n",
       "    </tr>\n",
       "    <tr>\n",
       "      <th>Saturday</th>\n",
       "      <td>2996.026855</td>\n",
       "      <td>2.938555</td>\n",
       "      <td>284303.62500</td>\n",
       "      <td>19.486177</td>\n",
       "      <td>5.899167</td>\n",
       "      <td>11.114068</td>\n",
       "    </tr>\n",
       "    <tr>\n",
       "      <th>Sunday</th>\n",
       "      <td>3324.251709</td>\n",
       "      <td>3.064379</td>\n",
       "      <td>301722.56250</td>\n",
       "      <td>23.742575</td>\n",
       "      <td>8.437908</td>\n",
       "      <td>14.612717</td>\n",
       "    </tr>\n",
       "    <tr>\n",
       "      <th>Thursday</th>\n",
       "      <td>3241.505615</td>\n",
       "      <td>2.660445</td>\n",
       "      <td>275795.03125</td>\n",
       "      <td>18.996010</td>\n",
       "      <td>6.578113</td>\n",
       "      <td>11.415645</td>\n",
       "    </tr>\n",
       "    <tr>\n",
       "      <th>Tuesday</th>\n",
       "      <td>3054.773193</td>\n",
       "      <td>2.805355</td>\n",
       "      <td>277145.81250</td>\n",
       "      <td>16.927753</td>\n",
       "      <td>6.011976</td>\n",
       "      <td>12.337037</td>\n",
       "    </tr>\n",
       "    <tr>\n",
       "      <th>Wednesday</th>\n",
       "      <td>3532.794189</td>\n",
       "      <td>3.240085</td>\n",
       "      <td>281426.25000</td>\n",
       "      <td>20.962036</td>\n",
       "      <td>6.533051</td>\n",
       "      <td>15.720207</td>\n",
       "    </tr>\n",
       "  </tbody>\n",
       "</table>\n",
       "</div>"
      ],
      "text/plain": [
       "           Impressions  Engagement Rate (per Impression)  Potential Reach  \\\n",
       "Weekday                                                                     \n",
       "Friday     3062.318359                          2.873214     276776.59375   \n",
       "Monday     3167.087646                          2.899850     279306.65625   \n",
       "Saturday   2996.026855                          2.938555     284303.62500   \n",
       "Sunday     3324.251709                          3.064379     301722.56250   \n",
       "Thursday   3241.505615                          2.660445     275795.03125   \n",
       "Tuesday    3054.773193                          2.805355     277145.81250   \n",
       "Wednesday  3532.794189                          3.240085     281426.25000   \n",
       "\n",
       "               Likes  Comments     Shares  \n",
       "Weekday                                    \n",
       "Friday     17.105783  5.506696  11.209702  \n",
       "Monday     30.239130  5.816092  16.702335  \n",
       "Saturday   19.486177  5.899167  11.114068  \n",
       "Sunday     23.742575  8.437908  14.612717  \n",
       "Thursday   18.996010  6.578113  11.415645  \n",
       "Tuesday    16.927753  6.011976  12.337037  \n",
       "Wednesday  20.962036  6.533051  15.720207  "
      ]
     },
     "execution_count": 612,
     "metadata": {},
     "output_type": "execute_result"
    }
   ],
   "source": [
    "tweet_df.groupby('Weekday')[['Impressions', 'Engagement Rate (per Impression)', 'Potential Reach', 'Likes','Comments','Shares']].mean() "
   ]
  },
  {
   "cell_type": "markdown",
   "metadata": {},
   "source": [
    "### Facebook"
   ]
  },
  {
   "cell_type": "code",
   "execution_count": 613,
   "metadata": {},
   "outputs": [
    {
     "data": {
      "text/plain": [
       "Photo    8308\n",
       "Video     964\n",
       "Text      339\n",
       "Link      192\n",
       "Name: Content Type, dtype: int64"
      ]
     },
     "execution_count": 613,
     "metadata": {},
     "output_type": "execute_result"
    }
   ],
   "source": [
    "face_df['Content Type'].value_counts().sort_values(ascending=False) #There are more picture posts than other content categories"
   ]
  },
  {
   "cell_type": "code",
   "execution_count": 614,
   "metadata": {},
   "outputs": [
    {
     "data": {
      "text/plain": [
       "Index(['Date', 'Post ID', 'Content Type', 'Sent by', 'Post', 'Impressions',\n",
       "       'Reach', 'Engagement Rate (per Impression)',\n",
       "       'Engagement Rate (per Reach)', 'Engagements', 'Likes', 'Comments',\n",
       "       'Shares', 'Click-Through Rate', 'Other Post Clicks',\n",
       "       'Post Clicks (All)', 'Post Photo View Clicks', 'Negative Feedback',\n",
       "       'Engaged Users', 'Engaged Fans', 'Users Talking About This',\n",
       "       'Unique Reactions', 'Unique Comments', 'Unique Shares',\n",
       "       'Unique Answers', 'Unique Post Clicks', 'Unique Post Photo View Clicks',\n",
       "       'Unique Other Post Clicks', 'Unique Negative Feedback', 'Weekday',\n",
       "       'Time', 'Positive Reactions', 'Negative Reactions'],\n",
       "      dtype='object')"
      ]
     },
     "execution_count": 614,
     "metadata": {},
     "output_type": "execute_result"
    }
   ],
   "source": [
    "face_df.columns"
   ]
  },
  {
   "cell_type": "code",
   "execution_count": 615,
   "metadata": {},
   "outputs": [
    {
     "data": {
      "text/html": [
       "<div>\n",
       "<style scoped>\n",
       "    .dataframe tbody tr th:only-of-type {\n",
       "        vertical-align: middle;\n",
       "    }\n",
       "\n",
       "    .dataframe tbody tr th {\n",
       "        vertical-align: top;\n",
       "    }\n",
       "\n",
       "    .dataframe thead th {\n",
       "        text-align: right;\n",
       "    }\n",
       "</style>\n",
       "<table border=\"1\" class=\"dataframe\">\n",
       "  <thead>\n",
       "    <tr style=\"text-align: right;\">\n",
       "      <th></th>\n",
       "      <th>Impressions</th>\n",
       "      <th>Engagement Rate (per Impression)</th>\n",
       "      <th>Reach</th>\n",
       "      <th>Likes</th>\n",
       "      <th>Comments</th>\n",
       "      <th>Shares</th>\n",
       "    </tr>\n",
       "    <tr>\n",
       "      <th>Content Type</th>\n",
       "      <th></th>\n",
       "      <th></th>\n",
       "      <th></th>\n",
       "      <th></th>\n",
       "      <th></th>\n",
       "      <th></th>\n",
       "    </tr>\n",
       "  </thead>\n",
       "  <tbody>\n",
       "    <tr>\n",
       "      <th>Link</th>\n",
       "      <td>4358.048340</td>\n",
       "      <td>4.049500</td>\n",
       "      <td>3696.554199</td>\n",
       "      <td>74.595741</td>\n",
       "      <td>12.585107</td>\n",
       "      <td>5.510638</td>\n",
       "    </tr>\n",
       "    <tr>\n",
       "      <th>Photo</th>\n",
       "      <td>6842.515625</td>\n",
       "      <td>3.573424</td>\n",
       "      <td>6061.395020</td>\n",
       "      <td>96.309128</td>\n",
       "      <td>20.486803</td>\n",
       "      <td>9.167695</td>\n",
       "    </tr>\n",
       "    <tr>\n",
       "      <th>Text</th>\n",
       "      <td>7757.430664</td>\n",
       "      <td>3.839925</td>\n",
       "      <td>7291.733887</td>\n",
       "      <td>61.069092</td>\n",
       "      <td>50.298183</td>\n",
       "      <td>2.323636</td>\n",
       "    </tr>\n",
       "    <tr>\n",
       "      <th>Video</th>\n",
       "      <td>2438.097900</td>\n",
       "      <td>7.127437</td>\n",
       "      <td>2263.020996</td>\n",
       "      <td>38.770077</td>\n",
       "      <td>12.793180</td>\n",
       "      <td>3.922992</td>\n",
       "    </tr>\n",
       "  </tbody>\n",
       "</table>\n",
       "</div>"
      ],
      "text/plain": [
       "              Impressions  Engagement Rate (per Impression)        Reach  \\\n",
       "Content Type                                                               \n",
       "Link          4358.048340                          4.049500  3696.554199   \n",
       "Photo         6842.515625                          3.573424  6061.395020   \n",
       "Text          7757.430664                          3.839925  7291.733887   \n",
       "Video         2438.097900                          7.127437  2263.020996   \n",
       "\n",
       "                  Likes   Comments    Shares  \n",
       "Content Type                                  \n",
       "Link          74.595741  12.585107  5.510638  \n",
       "Photo         96.309128  20.486803  9.167695  \n",
       "Text          61.069092  50.298183  2.323636  \n",
       "Video         38.770077  12.793180  3.922992  "
      ]
     },
     "execution_count": 615,
     "metadata": {},
     "output_type": "execute_result"
    }
   ],
   "source": [
    "face_df.groupby('Content Type')[['Impressions', 'Engagement Rate (per Impression)', 'Reach', 'Likes','Comments','Shares']].mean() \n",
    "\n",
    "#In general posts with videos have more engagement and potential reach than the rest of the content type."
   ]
  },
  {
   "cell_type": "code",
   "execution_count": 616,
   "metadata": {},
   "outputs": [
    {
     "data": {
      "text/plain": [
       "                     7090\n",
       "Damilare Oyekanmi    1657\n",
       "Aramide Salami        428\n",
       "Blessing Ubah         328\n",
       "Sophia Amuka          209\n",
       "Kemi Amoo              48\n",
       "Dunni Ogunsanya        43\n",
       "Name: Sent by, dtype: int64"
      ]
     },
     "execution_count": 616,
     "metadata": {},
     "output_type": "execute_result"
    }
   ],
   "source": [
    "face_df['Sent by'].value_counts()"
   ]
  },
  {
   "cell_type": "code",
   "execution_count": 617,
   "metadata": {},
   "outputs": [
    {
     "data": {
      "text/html": [
       "<div>\n",
       "<style scoped>\n",
       "    .dataframe tbody tr th:only-of-type {\n",
       "        vertical-align: middle;\n",
       "    }\n",
       "\n",
       "    .dataframe tbody tr th {\n",
       "        vertical-align: top;\n",
       "    }\n",
       "\n",
       "    .dataframe thead th {\n",
       "        text-align: right;\n",
       "    }\n",
       "</style>\n",
       "<table border=\"1\" class=\"dataframe\">\n",
       "  <thead>\n",
       "    <tr style=\"text-align: right;\">\n",
       "      <th></th>\n",
       "      <th>Impressions</th>\n",
       "      <th>Engagement Rate (per Impression)</th>\n",
       "      <th>Reach</th>\n",
       "      <th>Likes</th>\n",
       "      <th>Comments</th>\n",
       "      <th>Shares</th>\n",
       "    </tr>\n",
       "    <tr>\n",
       "      <th>Sent by</th>\n",
       "      <th></th>\n",
       "      <th></th>\n",
       "      <th></th>\n",
       "      <th></th>\n",
       "      <th></th>\n",
       "      <th></th>\n",
       "    </tr>\n",
       "  </thead>\n",
       "  <tbody>\n",
       "    <tr>\n",
       "      <th></th>\n",
       "      <td>7091.112793</td>\n",
       "      <td>3.468933</td>\n",
       "      <td>6149.011230</td>\n",
       "      <td>107.393158</td>\n",
       "      <td>22.407389</td>\n",
       "      <td>10.809021</td>\n",
       "    </tr>\n",
       "    <tr>\n",
       "      <th>Aramide Salami</th>\n",
       "      <td>7164.379883</td>\n",
       "      <td>3.193807</td>\n",
       "      <td>6311.088867</td>\n",
       "      <td>95.827492</td>\n",
       "      <td>16.369272</td>\n",
       "      <td>9.522911</td>\n",
       "    </tr>\n",
       "    <tr>\n",
       "      <th>Blessing Ubah</th>\n",
       "      <td>4234.950684</td>\n",
       "      <td>3.216075</td>\n",
       "      <td>4170.238281</td>\n",
       "      <td>35.749226</td>\n",
       "      <td>14.476780</td>\n",
       "      <td>0.953560</td>\n",
       "    </tr>\n",
       "    <tr>\n",
       "      <th>Damilare Oyekanmi</th>\n",
       "      <td>4405.938965</td>\n",
       "      <td>5.365965</td>\n",
       "      <td>4327.321777</td>\n",
       "      <td>35.144241</td>\n",
       "      <td>16.030304</td>\n",
       "      <td>0.963636</td>\n",
       "    </tr>\n",
       "    <tr>\n",
       "      <th>Dunni Ogunsanya</th>\n",
       "      <td>1213.068970</td>\n",
       "      <td>3.160000</td>\n",
       "      <td>796.000000</td>\n",
       "      <td>77.425003</td>\n",
       "      <td>22.350000</td>\n",
       "      <td>23.700000</td>\n",
       "    </tr>\n",
       "    <tr>\n",
       "      <th>Kemi Amoo</th>\n",
       "      <td>3856.666748</td>\n",
       "      <td>5.136087</td>\n",
       "      <td>3780.270752</td>\n",
       "      <td>40.875000</td>\n",
       "      <td>15.854167</td>\n",
       "      <td>1.875000</td>\n",
       "    </tr>\n",
       "    <tr>\n",
       "      <th>Sophia Amuka</th>\n",
       "      <td>5435.444824</td>\n",
       "      <td>8.894135</td>\n",
       "      <td>5284.306152</td>\n",
       "      <td>52.028709</td>\n",
       "      <td>17.732058</td>\n",
       "      <td>2.334928</td>\n",
       "    </tr>\n",
       "  </tbody>\n",
       "</table>\n",
       "</div>"
      ],
      "text/plain": [
       "                   Impressions  Engagement Rate (per Impression)        Reach  \\\n",
       "Sent by                                                                         \n",
       "                   7091.112793                          3.468933  6149.011230   \n",
       "Aramide Salami     7164.379883                          3.193807  6311.088867   \n",
       "Blessing Ubah      4234.950684                          3.216075  4170.238281   \n",
       "Damilare Oyekanmi  4405.938965                          5.365965  4327.321777   \n",
       "Dunni Ogunsanya    1213.068970                          3.160000   796.000000   \n",
       "Kemi Amoo          3856.666748                          5.136087  3780.270752   \n",
       "Sophia Amuka       5435.444824                          8.894135  5284.306152   \n",
       "\n",
       "                        Likes   Comments     Shares  \n",
       "Sent by                                              \n",
       "                   107.393158  22.407389  10.809021  \n",
       "Aramide Salami      95.827492  16.369272   9.522911  \n",
       "Blessing Ubah       35.749226  14.476780   0.953560  \n",
       "Damilare Oyekanmi   35.144241  16.030304   0.963636  \n",
       "Dunni Ogunsanya     77.425003  22.350000  23.700000  \n",
       "Kemi Amoo           40.875000  15.854167   1.875000  \n",
       "Sophia Amuka        52.028709  17.732058   2.334928  "
      ]
     },
     "execution_count": 617,
     "metadata": {},
     "output_type": "execute_result"
    }
   ],
   "source": [
    "face_df.groupby('Sent by')[['Impressions', 'Engagement Rate (per Impression)', 'Reach', 'Likes','Comments','Shares']].mean() "
   ]
  },
  {
   "cell_type": "code",
   "execution_count": 618,
   "metadata": {},
   "outputs": [
    {
     "data": {
      "text/plain": [
       "Wednesday    2008\n",
       "Friday       1566\n",
       "Thursday     1556\n",
       "Tuesday      1417\n",
       "Monday       1415\n",
       "Saturday     1110\n",
       "Sunday        731\n",
       "Name: Weekday, dtype: int64"
      ]
     },
     "execution_count": 618,
     "metadata": {},
     "output_type": "execute_result"
    }
   ],
   "source": [
    "face_df['Weekday'].value_counts().sort_values(ascending=False)"
   ]
  },
  {
   "cell_type": "code",
   "execution_count": 619,
   "metadata": {},
   "outputs": [
    {
     "data": {
      "text/html": [
       "<div>\n",
       "<style scoped>\n",
       "    .dataframe tbody tr th:only-of-type {\n",
       "        vertical-align: middle;\n",
       "    }\n",
       "\n",
       "    .dataframe tbody tr th {\n",
       "        vertical-align: top;\n",
       "    }\n",
       "\n",
       "    .dataframe thead th {\n",
       "        text-align: right;\n",
       "    }\n",
       "</style>\n",
       "<table border=\"1\" class=\"dataframe\">\n",
       "  <thead>\n",
       "    <tr style=\"text-align: right;\">\n",
       "      <th></th>\n",
       "      <th>Impressions</th>\n",
       "      <th>Engagement Rate (per Impression)</th>\n",
       "      <th>Reach</th>\n",
       "      <th>Likes</th>\n",
       "      <th>Comments</th>\n",
       "      <th>Shares</th>\n",
       "    </tr>\n",
       "    <tr>\n",
       "      <th>Weekday</th>\n",
       "      <th></th>\n",
       "      <th></th>\n",
       "      <th></th>\n",
       "      <th></th>\n",
       "      <th></th>\n",
       "      <th></th>\n",
       "    </tr>\n",
       "  </thead>\n",
       "  <tbody>\n",
       "    <tr>\n",
       "      <th>Friday</th>\n",
       "      <td>6254.898438</td>\n",
       "      <td>3.893622</td>\n",
       "      <td>5528.061523</td>\n",
       "      <td>70.928818</td>\n",
       "      <td>22.865318</td>\n",
       "      <td>7.791347</td>\n",
       "    </tr>\n",
       "    <tr>\n",
       "      <th>Monday</th>\n",
       "      <td>6671.874023</td>\n",
       "      <td>3.586303</td>\n",
       "      <td>5903.311035</td>\n",
       "      <td>71.933174</td>\n",
       "      <td>18.321678</td>\n",
       "      <td>9.536131</td>\n",
       "    </tr>\n",
       "    <tr>\n",
       "      <th>Saturday</th>\n",
       "      <td>6720.708496</td>\n",
       "      <td>4.935607</td>\n",
       "      <td>6098.329590</td>\n",
       "      <td>67.182846</td>\n",
       "      <td>18.528746</td>\n",
       "      <td>6.259189</td>\n",
       "    </tr>\n",
       "    <tr>\n",
       "      <th>Sunday</th>\n",
       "      <td>6862.247070</td>\n",
       "      <td>3.408202</td>\n",
       "      <td>6358.972168</td>\n",
       "      <td>86.356125</td>\n",
       "      <td>24.737892</td>\n",
       "      <td>6.576923</td>\n",
       "    </tr>\n",
       "    <tr>\n",
       "      <th>Thursday</th>\n",
       "      <td>6377.328125</td>\n",
       "      <td>4.233532</td>\n",
       "      <td>5634.358398</td>\n",
       "      <td>132.418686</td>\n",
       "      <td>22.075605</td>\n",
       "      <td>8.385164</td>\n",
       "    </tr>\n",
       "    <tr>\n",
       "      <th>Tuesday</th>\n",
       "      <td>6750.604492</td>\n",
       "      <td>4.447829</td>\n",
       "      <td>6039.116699</td>\n",
       "      <td>76.053528</td>\n",
       "      <td>21.885181</td>\n",
       "      <td>8.467029</td>\n",
       "    </tr>\n",
       "    <tr>\n",
       "      <th>Wednesday</th>\n",
       "      <td>5470.818359</td>\n",
       "      <td>3.487021</td>\n",
       "      <td>4738.358887</td>\n",
       "      <td>106.245491</td>\n",
       "      <td>17.521814</td>\n",
       "      <td>9.987784</td>\n",
       "    </tr>\n",
       "  </tbody>\n",
       "</table>\n",
       "</div>"
      ],
      "text/plain": [
       "           Impressions  Engagement Rate (per Impression)        Reach  \\\n",
       "Weekday                                                                 \n",
       "Friday     6254.898438                          3.893622  5528.061523   \n",
       "Monday     6671.874023                          3.586303  5903.311035   \n",
       "Saturday   6720.708496                          4.935607  6098.329590   \n",
       "Sunday     6862.247070                          3.408202  6358.972168   \n",
       "Thursday   6377.328125                          4.233532  5634.358398   \n",
       "Tuesday    6750.604492                          4.447829  6039.116699   \n",
       "Wednesday  5470.818359                          3.487021  4738.358887   \n",
       "\n",
       "                Likes   Comments    Shares  \n",
       "Weekday                                     \n",
       "Friday      70.928818  22.865318  7.791347  \n",
       "Monday      71.933174  18.321678  9.536131  \n",
       "Saturday    67.182846  18.528746  6.259189  \n",
       "Sunday      86.356125  24.737892  6.576923  \n",
       "Thursday   132.418686  22.075605  8.385164  \n",
       "Tuesday     76.053528  21.885181  8.467029  \n",
       "Wednesday  106.245491  17.521814  9.987784  "
      ]
     },
     "execution_count": 619,
     "metadata": {},
     "output_type": "execute_result"
    }
   ],
   "source": [
    "face_df.groupby('Weekday')[['Impressions', 'Engagement Rate (per Impression)', 'Reach', 'Likes','Comments','Shares']].mean() "
   ]
  },
  {
   "cell_type": "markdown",
   "metadata": {},
   "source": [
    "### Instagram"
   ]
  },
  {
   "cell_type": "code",
   "execution_count": 620,
   "metadata": {},
   "outputs": [
    {
     "data": {
      "text/plain": [
       "Photo       8256\n",
       "Video       1002\n",
       "Carousel     742\n",
       "Name: Content Type, dtype: int64"
      ]
     },
     "execution_count": 620,
     "metadata": {},
     "output_type": "execute_result"
    }
   ],
   "source": [
    "insta_df['Content Type'].value_counts().sort_values(ascending=False) #There are more picture posts than other content categories"
   ]
  },
  {
   "cell_type": "code",
   "execution_count": 621,
   "metadata": {},
   "outputs": [
    {
     "data": {
      "text/plain": [
       "Index(['Date', 'Post ID', 'Post Type', 'Content Type', 'Sent by', 'Link',\n",
       "       'Post', 'Impressions', 'Reach', 'Engagement Rate (per Impression)',\n",
       "       'Engagement Rate (per Reach)', 'Engagements', 'Likes', 'Comments',\n",
       "       'Saves', 'Weekday', 'Time', 'Post Link Clicks'],\n",
       "      dtype='object')"
      ]
     },
     "execution_count": 621,
     "metadata": {},
     "output_type": "execute_result"
    }
   ],
   "source": [
    "insta_df.columns"
   ]
  },
  {
   "cell_type": "code",
   "execution_count": 622,
   "metadata": {},
   "outputs": [
    {
     "data": {
      "text/html": [
       "<div>\n",
       "<style scoped>\n",
       "    .dataframe tbody tr th:only-of-type {\n",
       "        vertical-align: middle;\n",
       "    }\n",
       "\n",
       "    .dataframe tbody tr th {\n",
       "        vertical-align: top;\n",
       "    }\n",
       "\n",
       "    .dataframe thead th {\n",
       "        text-align: right;\n",
       "    }\n",
       "</style>\n",
       "<table border=\"1\" class=\"dataframe\">\n",
       "  <thead>\n",
       "    <tr style=\"text-align: right;\">\n",
       "      <th></th>\n",
       "      <th>Impressions</th>\n",
       "      <th>Engagement Rate (per Impression)</th>\n",
       "      <th>Reach</th>\n",
       "      <th>Likes</th>\n",
       "      <th>Comments</th>\n",
       "    </tr>\n",
       "    <tr>\n",
       "      <th>Content Type</th>\n",
       "      <th></th>\n",
       "      <th></th>\n",
       "      <th></th>\n",
       "      <th></th>\n",
       "      <th></th>\n",
       "    </tr>\n",
       "  </thead>\n",
       "  <tbody>\n",
       "    <tr>\n",
       "      <th>Carousel</th>\n",
       "      <td>1070.901001</td>\n",
       "      <td>3.610428</td>\n",
       "      <td>1285.888794</td>\n",
       "      <td>83.265106</td>\n",
       "      <td>9.926154</td>\n",
       "    </tr>\n",
       "    <tr>\n",
       "      <th>Photo</th>\n",
       "      <td>1071.281128</td>\n",
       "      <td>4.715106</td>\n",
       "      <td>1563.491211</td>\n",
       "      <td>101.674187</td>\n",
       "      <td>13.993177</td>\n",
       "    </tr>\n",
       "    <tr>\n",
       "      <th>Video</th>\n",
       "      <td>1165.627930</td>\n",
       "      <td>9.786121</td>\n",
       "      <td>1769.284668</td>\n",
       "      <td>127.234924</td>\n",
       "      <td>14.240000</td>\n",
       "    </tr>\n",
       "  </tbody>\n",
       "</table>\n",
       "</div>"
      ],
      "text/plain": [
       "              Impressions  Engagement Rate (per Impression)        Reach  \\\n",
       "Content Type                                                               \n",
       "Carousel      1070.901001                          3.610428  1285.888794   \n",
       "Photo         1071.281128                          4.715106  1563.491211   \n",
       "Video         1165.627930                          9.786121  1769.284668   \n",
       "\n",
       "                   Likes   Comments  \n",
       "Content Type                         \n",
       "Carousel       83.265106   9.926154  \n",
       "Photo         101.674187  13.993177  \n",
       "Video         127.234924  14.240000  "
      ]
     },
     "execution_count": 622,
     "metadata": {},
     "output_type": "execute_result"
    }
   ],
   "source": [
    "insta_df.groupby('Content Type')[['Impressions', 'Engagement Rate (per Impression)', 'Reach', 'Likes','Comments']].mean() \n",
    "\n",
    "#In general posts with videos have more engagement and potential reach than the rest of the content type."
   ]
  },
  {
   "cell_type": "code",
   "execution_count": 623,
   "metadata": {},
   "outputs": [
    {
     "data": {
      "text/plain": [
       "                     4967\n",
       "Blessing Ubah        2707\n",
       "Aramide Salami       1733\n",
       "Kemi Amoo             315\n",
       "Sophia Amuka          192\n",
       "Damilare Oyekanmi      86\n",
       "Name: Sent by, dtype: int64"
      ]
     },
     "execution_count": 623,
     "metadata": {},
     "output_type": "execute_result"
    }
   ],
   "source": [
    "insta_df['Sent by'].value_counts()"
   ]
  },
  {
   "cell_type": "code",
   "execution_count": 624,
   "metadata": {},
   "outputs": [
    {
     "data": {
      "text/html": [
       "<div>\n",
       "<style scoped>\n",
       "    .dataframe tbody tr th:only-of-type {\n",
       "        vertical-align: middle;\n",
       "    }\n",
       "\n",
       "    .dataframe tbody tr th {\n",
       "        vertical-align: top;\n",
       "    }\n",
       "\n",
       "    .dataframe thead th {\n",
       "        text-align: right;\n",
       "    }\n",
       "</style>\n",
       "<table border=\"1\" class=\"dataframe\">\n",
       "  <thead>\n",
       "    <tr style=\"text-align: right;\">\n",
       "      <th></th>\n",
       "      <th>Impressions</th>\n",
       "      <th>Engagement Rate (per Impression)</th>\n",
       "      <th>Reach</th>\n",
       "      <th>Likes</th>\n",
       "      <th>Comments</th>\n",
       "    </tr>\n",
       "    <tr>\n",
       "      <th>Sent by</th>\n",
       "      <th></th>\n",
       "      <th></th>\n",
       "      <th></th>\n",
       "      <th></th>\n",
       "      <th></th>\n",
       "    </tr>\n",
       "  </thead>\n",
       "  <tbody>\n",
       "    <tr>\n",
       "      <th></th>\n",
       "      <td>1090.876953</td>\n",
       "      <td>8.544663</td>\n",
       "      <td>1202.620483</td>\n",
       "      <td>171.825150</td>\n",
       "      <td>13.793134</td>\n",
       "    </tr>\n",
       "    <tr>\n",
       "      <th>Aramide Salami</th>\n",
       "      <td>1036.392334</td>\n",
       "      <td>3.792944</td>\n",
       "      <td>1512.089722</td>\n",
       "      <td>89.898659</td>\n",
       "      <td>9.948442</td>\n",
       "    </tr>\n",
       "    <tr>\n",
       "      <th>Blessing Ubah</th>\n",
       "      <td>1093.279419</td>\n",
       "      <td>2.640203</td>\n",
       "      <td>1949.537842</td>\n",
       "      <td>42.130436</td>\n",
       "      <td>15.547548</td>\n",
       "    </tr>\n",
       "    <tr>\n",
       "      <th>Damilare Oyekanmi</th>\n",
       "      <td>1294.373535</td>\n",
       "      <td>2.816628</td>\n",
       "      <td>1532.720947</td>\n",
       "      <td>32.558140</td>\n",
       "      <td>20.833334</td>\n",
       "    </tr>\n",
       "    <tr>\n",
       "      <th>Kemi Amoo</th>\n",
       "      <td>1051.913330</td>\n",
       "      <td>2.590032</td>\n",
       "      <td>2131.096436</td>\n",
       "      <td>46.781349</td>\n",
       "      <td>11.663594</td>\n",
       "    </tr>\n",
       "    <tr>\n",
       "      <th>Sophia Amuka</th>\n",
       "      <td>1136.140503</td>\n",
       "      <td>2.539365</td>\n",
       "      <td>1767.642090</td>\n",
       "      <td>33.063156</td>\n",
       "      <td>18.623377</td>\n",
       "    </tr>\n",
       "  </tbody>\n",
       "</table>\n",
       "</div>"
      ],
      "text/plain": [
       "                   Impressions  Engagement Rate (per Impression)        Reach  \\\n",
       "Sent by                                                                         \n",
       "                   1090.876953                          8.544663  1202.620483   \n",
       "Aramide Salami     1036.392334                          3.792944  1512.089722   \n",
       "Blessing Ubah      1093.279419                          2.640203  1949.537842   \n",
       "Damilare Oyekanmi  1294.373535                          2.816628  1532.720947   \n",
       "Kemi Amoo          1051.913330                          2.590032  2131.096436   \n",
       "Sophia Amuka       1136.140503                          2.539365  1767.642090   \n",
       "\n",
       "                        Likes   Comments  \n",
       "Sent by                                   \n",
       "                   171.825150  13.793134  \n",
       "Aramide Salami      89.898659   9.948442  \n",
       "Blessing Ubah       42.130436  15.547548  \n",
       "Damilare Oyekanmi   32.558140  20.833334  \n",
       "Kemi Amoo           46.781349  11.663594  \n",
       "Sophia Amuka        33.063156  18.623377  "
      ]
     },
     "execution_count": 624,
     "metadata": {},
     "output_type": "execute_result"
    }
   ],
   "source": [
    "insta_df.groupby('Sent by')[['Impressions', 'Engagement Rate (per Impression)', 'Reach', 'Likes','Comments']].mean() "
   ]
  },
  {
   "cell_type": "code",
   "execution_count": 625,
   "metadata": {},
   "outputs": [
    {
     "data": {
      "text/plain": [
       "Wednesday    1723\n",
       "Friday       1606\n",
       "Thursday     1568\n",
       "Monday       1481\n",
       "Tuesday      1414\n",
       "Saturday     1275\n",
       "Sunday        933\n",
       "Name: Weekday, dtype: int64"
      ]
     },
     "execution_count": 625,
     "metadata": {},
     "output_type": "execute_result"
    }
   ],
   "source": [
    "insta_df['Weekday'].value_counts().sort_values(ascending=False)"
   ]
  },
  {
   "cell_type": "code",
   "execution_count": 626,
   "metadata": {},
   "outputs": [
    {
     "data": {
      "text/html": [
       "<div>\n",
       "<style scoped>\n",
       "    .dataframe tbody tr th:only-of-type {\n",
       "        vertical-align: middle;\n",
       "    }\n",
       "\n",
       "    .dataframe tbody tr th {\n",
       "        vertical-align: top;\n",
       "    }\n",
       "\n",
       "    .dataframe thead th {\n",
       "        text-align: right;\n",
       "    }\n",
       "</style>\n",
       "<table border=\"1\" class=\"dataframe\">\n",
       "  <thead>\n",
       "    <tr style=\"text-align: right;\">\n",
       "      <th></th>\n",
       "      <th>Impressions</th>\n",
       "      <th>Engagement Rate (per Impression)</th>\n",
       "      <th>Reach</th>\n",
       "      <th>Likes</th>\n",
       "      <th>Comments</th>\n",
       "    </tr>\n",
       "    <tr>\n",
       "      <th>Weekday</th>\n",
       "      <th></th>\n",
       "      <th></th>\n",
       "      <th></th>\n",
       "      <th></th>\n",
       "      <th></th>\n",
       "    </tr>\n",
       "  </thead>\n",
       "  <tbody>\n",
       "    <tr>\n",
       "      <th>Friday</th>\n",
       "      <td>1174.980469</td>\n",
       "      <td>8.083467</td>\n",
       "      <td>1505.827515</td>\n",
       "      <td>185.944031</td>\n",
       "      <td>13.357927</td>\n",
       "    </tr>\n",
       "    <tr>\n",
       "      <th>Monday</th>\n",
       "      <td>1074.015137</td>\n",
       "      <td>3.717978</td>\n",
       "      <td>1481.859863</td>\n",
       "      <td>72.973465</td>\n",
       "      <td>15.325620</td>\n",
       "    </tr>\n",
       "    <tr>\n",
       "      <th>Saturday</th>\n",
       "      <td>1019.240479</td>\n",
       "      <td>7.393308</td>\n",
       "      <td>1925.128296</td>\n",
       "      <td>171.947021</td>\n",
       "      <td>9.882353</td>\n",
       "    </tr>\n",
       "    <tr>\n",
       "      <th>Sunday</th>\n",
       "      <td>1157.317871</td>\n",
       "      <td>4.419717</td>\n",
       "      <td>1917.811401</td>\n",
       "      <td>78.588089</td>\n",
       "      <td>14.902174</td>\n",
       "    </tr>\n",
       "    <tr>\n",
       "      <th>Thursday</th>\n",
       "      <td>1054.666626</td>\n",
       "      <td>4.242905</td>\n",
       "      <td>1508.480225</td>\n",
       "      <td>76.358932</td>\n",
       "      <td>14.231908</td>\n",
       "    </tr>\n",
       "    <tr>\n",
       "      <th>Tuesday</th>\n",
       "      <td>1019.335571</td>\n",
       "      <td>3.579753</td>\n",
       "      <td>1534.095581</td>\n",
       "      <td>68.061066</td>\n",
       "      <td>15.340137</td>\n",
       "    </tr>\n",
       "    <tr>\n",
       "      <th>Wednesday</th>\n",
       "      <td>1089.614014</td>\n",
       "      <td>4.707916</td>\n",
       "      <td>1276.297485</td>\n",
       "      <td>63.690460</td>\n",
       "      <td>13.107795</td>\n",
       "    </tr>\n",
       "  </tbody>\n",
       "</table>\n",
       "</div>"
      ],
      "text/plain": [
       "           Impressions  Engagement Rate (per Impression)        Reach  \\\n",
       "Weekday                                                                 \n",
       "Friday     1174.980469                          8.083467  1505.827515   \n",
       "Monday     1074.015137                          3.717978  1481.859863   \n",
       "Saturday   1019.240479                          7.393308  1925.128296   \n",
       "Sunday     1157.317871                          4.419717  1917.811401   \n",
       "Thursday   1054.666626                          4.242905  1508.480225   \n",
       "Tuesday    1019.335571                          3.579753  1534.095581   \n",
       "Wednesday  1089.614014                          4.707916  1276.297485   \n",
       "\n",
       "                Likes   Comments  \n",
       "Weekday                           \n",
       "Friday     185.944031  13.357927  \n",
       "Monday      72.973465  15.325620  \n",
       "Saturday   171.947021   9.882353  \n",
       "Sunday      78.588089  14.902174  \n",
       "Thursday    76.358932  14.231908  \n",
       "Tuesday     68.061066  15.340137  \n",
       "Wednesday   63.690460  13.107795  "
      ]
     },
     "execution_count": 626,
     "metadata": {},
     "output_type": "execute_result"
    }
   ],
   "source": [
    "insta_df.groupby('Weekday')[['Impressions', 'Engagement Rate (per Impression)', 'Reach', 'Likes','Comments']].mean() "
   ]
  },
  {
   "cell_type": "markdown",
   "metadata": {},
   "source": [
    "### Linkdeln"
   ]
  },
  {
   "cell_type": "code",
   "execution_count": 627,
   "metadata": {},
   "outputs": [
    {
     "data": {
      "text/plain": [
       "Photo       6490\n",
       "Video        924\n",
       "Text         233\n",
       "Link         110\n",
       "Poll           2\n",
       "Document       1\n",
       "Name: Content Type, dtype: int64"
      ]
     },
     "execution_count": 627,
     "metadata": {},
     "output_type": "execute_result"
    }
   ],
   "source": [
    "link_df['Content Type'].value_counts().sort_values(ascending=False) #There are more picture posts than other content categories"
   ]
  },
  {
   "cell_type": "code",
   "execution_count": 628,
   "metadata": {},
   "outputs": [
    {
     "data": {
      "text/plain": [
       "Index(['Date', 'Post ID', 'Post Type', 'Content Type', 'Sent by', 'Link',\n",
       "       'Post', 'Impressions', 'Engagement Rate (per Impression)',\n",
       "       'Engagements', 'Likes', 'Comments', 'Shares', 'Click-Through Rate',\n",
       "       'Post Link Clicks', 'Weekday', 'Time'],\n",
       "      dtype='object')"
      ]
     },
     "execution_count": 628,
     "metadata": {},
     "output_type": "execute_result"
    }
   ],
   "source": [
    "link_df.columns"
   ]
  },
  {
   "cell_type": "code",
   "execution_count": 629,
   "metadata": {},
   "outputs": [
    {
     "data": {
      "text/html": [
       "<div>\n",
       "<style scoped>\n",
       "    .dataframe tbody tr th:only-of-type {\n",
       "        vertical-align: middle;\n",
       "    }\n",
       "\n",
       "    .dataframe tbody tr th {\n",
       "        vertical-align: top;\n",
       "    }\n",
       "\n",
       "    .dataframe thead th {\n",
       "        text-align: right;\n",
       "    }\n",
       "</style>\n",
       "<table border=\"1\" class=\"dataframe\">\n",
       "  <thead>\n",
       "    <tr style=\"text-align: right;\">\n",
       "      <th></th>\n",
       "      <th>Impressions</th>\n",
       "      <th>Engagement Rate (per Impression)</th>\n",
       "      <th>Likes</th>\n",
       "      <th>Comments</th>\n",
       "      <th>Shares</th>\n",
       "    </tr>\n",
       "    <tr>\n",
       "      <th>Content Type</th>\n",
       "      <th></th>\n",
       "      <th></th>\n",
       "      <th></th>\n",
       "      <th></th>\n",
       "      <th></th>\n",
       "    </tr>\n",
       "  </thead>\n",
       "  <tbody>\n",
       "    <tr>\n",
       "      <th>Document</th>\n",
       "      <td>1438.000000</td>\n",
       "      <td>18.080000</td>\n",
       "      <td>9.000000</td>\n",
       "      <td>0.000000</td>\n",
       "      <td>0.000000</td>\n",
       "    </tr>\n",
       "    <tr>\n",
       "      <th>Link</th>\n",
       "      <td>1352.375000</td>\n",
       "      <td>24.847187</td>\n",
       "      <td>13.687500</td>\n",
       "      <td>0.187500</td>\n",
       "      <td>3.531250</td>\n",
       "    </tr>\n",
       "    <tr>\n",
       "      <th>Photo</th>\n",
       "      <td>1029.012207</td>\n",
       "      <td>7.976286</td>\n",
       "      <td>15.863168</td>\n",
       "      <td>0.834924</td>\n",
       "      <td>1.450000</td>\n",
       "    </tr>\n",
       "    <tr>\n",
       "      <th>Poll</th>\n",
       "      <td>22357.000000</td>\n",
       "      <td>2.730000</td>\n",
       "      <td>15.500000</td>\n",
       "      <td>2.500000</td>\n",
       "      <td>0.000000</td>\n",
       "    </tr>\n",
       "    <tr>\n",
       "      <th>Text</th>\n",
       "      <td>1504.735596</td>\n",
       "      <td>3.562163</td>\n",
       "      <td>11.052885</td>\n",
       "      <td>2.447115</td>\n",
       "      <td>0.432692</td>\n",
       "    </tr>\n",
       "    <tr>\n",
       "      <th>Video</th>\n",
       "      <td>1254.466431</td>\n",
       "      <td>2.433062</td>\n",
       "      <td>16.308598</td>\n",
       "      <td>2.832744</td>\n",
       "      <td>1.308598</td>\n",
       "    </tr>\n",
       "  </tbody>\n",
       "</table>\n",
       "</div>"
      ],
      "text/plain": [
       "               Impressions  Engagement Rate (per Impression)      Likes  \\\n",
       "Content Type                                                              \n",
       "Document       1438.000000                         18.080000   9.000000   \n",
       "Link           1352.375000                         24.847187  13.687500   \n",
       "Photo          1029.012207                          7.976286  15.863168   \n",
       "Poll          22357.000000                          2.730000  15.500000   \n",
       "Text           1504.735596                          3.562163  11.052885   \n",
       "Video          1254.466431                          2.433062  16.308598   \n",
       "\n",
       "              Comments    Shares  \n",
       "Content Type                      \n",
       "Document      0.000000  0.000000  \n",
       "Link          0.187500  3.531250  \n",
       "Photo         0.834924  1.450000  \n",
       "Poll          2.500000  0.000000  \n",
       "Text          2.447115  0.432692  \n",
       "Video         2.832744  1.308598  "
      ]
     },
     "execution_count": 629,
     "metadata": {},
     "output_type": "execute_result"
    }
   ],
   "source": [
    "link_df.groupby('Content Type')[['Impressions', 'Engagement Rate (per Impression)', 'Likes','Comments','Shares']].mean() \n",
    "\n",
    "#In general posts with videos have more engagement and potential reach than the rest of the content type."
   ]
  },
  {
   "cell_type": "code",
   "execution_count": 630,
   "metadata": {},
   "outputs": [
    {
     "data": {
      "text/plain": [
       "                     2974\n",
       "Blessing Ubah        2426\n",
       "Sophia Amuka         1625\n",
       "Kemi Amoo             337\n",
       "Aramide Salami        289\n",
       "Damilare Oyekanmi      97\n",
       "Dunni Ogunsanya        12\n",
       "Name: Sent by, dtype: int64"
      ]
     },
     "execution_count": 630,
     "metadata": {},
     "output_type": "execute_result"
    }
   ],
   "source": [
    "link_df['Sent by'].value_counts()"
   ]
  },
  {
   "cell_type": "code",
   "execution_count": 631,
   "metadata": {},
   "outputs": [
    {
     "data": {
      "text/html": [
       "<div>\n",
       "<style scoped>\n",
       "    .dataframe tbody tr th:only-of-type {\n",
       "        vertical-align: middle;\n",
       "    }\n",
       "\n",
       "    .dataframe tbody tr th {\n",
       "        vertical-align: top;\n",
       "    }\n",
       "\n",
       "    .dataframe thead th {\n",
       "        text-align: right;\n",
       "    }\n",
       "</style>\n",
       "<table border=\"1\" class=\"dataframe\">\n",
       "  <thead>\n",
       "    <tr style=\"text-align: right;\">\n",
       "      <th></th>\n",
       "      <th>Impressions</th>\n",
       "      <th>Engagement Rate (per Impression)</th>\n",
       "      <th>Likes</th>\n",
       "      <th>Comments</th>\n",
       "      <th>Shares</th>\n",
       "    </tr>\n",
       "    <tr>\n",
       "      <th>Sent by</th>\n",
       "      <th></th>\n",
       "      <th></th>\n",
       "      <th></th>\n",
       "      <th></th>\n",
       "      <th></th>\n",
       "    </tr>\n",
       "  </thead>\n",
       "  <tbody>\n",
       "    <tr>\n",
       "      <th></th>\n",
       "      <td>1500.434814</td>\n",
       "      <td>17.340931</td>\n",
       "      <td>21.220597</td>\n",
       "      <td>2.258631</td>\n",
       "      <td>2.074898</td>\n",
       "    </tr>\n",
       "    <tr>\n",
       "      <th>Aramide Salami</th>\n",
       "      <td>1153.656738</td>\n",
       "      <td>11.163433</td>\n",
       "      <td>21.305970</td>\n",
       "      <td>0.805970</td>\n",
       "      <td>1.839552</td>\n",
       "    </tr>\n",
       "    <tr>\n",
       "      <th>Blessing Ubah</th>\n",
       "      <td>765.504272</td>\n",
       "      <td>2.864182</td>\n",
       "      <td>11.212947</td>\n",
       "      <td>0.648637</td>\n",
       "      <td>0.682283</td>\n",
       "    </tr>\n",
       "    <tr>\n",
       "      <th>Damilare Oyekanmi</th>\n",
       "      <td>858.375000</td>\n",
       "      <td>3.534583</td>\n",
       "      <td>9.822917</td>\n",
       "      <td>0.604167</td>\n",
       "      <td>0.437500</td>\n",
       "    </tr>\n",
       "    <tr>\n",
       "      <th>Dunni Ogunsanya</th>\n",
       "      <td>940.727295</td>\n",
       "      <td>2.044545</td>\n",
       "      <td>6.818182</td>\n",
       "      <td>0.181818</td>\n",
       "      <td>1.727273</td>\n",
       "    </tr>\n",
       "    <tr>\n",
       "      <th>Kemi Amoo</th>\n",
       "      <td>805.822632</td>\n",
       "      <td>3.193333</td>\n",
       "      <td>11.923547</td>\n",
       "      <td>0.853211</td>\n",
       "      <td>0.917431</td>\n",
       "    </tr>\n",
       "    <tr>\n",
       "      <th>Sophia Amuka</th>\n",
       "      <td>1164.905273</td>\n",
       "      <td>2.964024</td>\n",
       "      <td>16.862683</td>\n",
       "      <td>0.865861</td>\n",
       "      <td>1.849968</td>\n",
       "    </tr>\n",
       "  </tbody>\n",
       "</table>\n",
       "</div>"
      ],
      "text/plain": [
       "                   Impressions  Engagement Rate (per Impression)      Likes  \\\n",
       "Sent by                                                                       \n",
       "                   1500.434814                         17.340931  21.220597   \n",
       "Aramide Salami     1153.656738                         11.163433  21.305970   \n",
       "Blessing Ubah       765.504272                          2.864182  11.212947   \n",
       "Damilare Oyekanmi   858.375000                          3.534583   9.822917   \n",
       "Dunni Ogunsanya     940.727295                          2.044545   6.818182   \n",
       "Kemi Amoo           805.822632                          3.193333  11.923547   \n",
       "Sophia Amuka       1164.905273                          2.964024  16.862683   \n",
       "\n",
       "                   Comments    Shares  \n",
       "Sent by                                \n",
       "                   2.258631  2.074898  \n",
       "Aramide Salami     0.805970  1.839552  \n",
       "Blessing Ubah      0.648637  0.682283  \n",
       "Damilare Oyekanmi  0.604167  0.437500  \n",
       "Dunni Ogunsanya    0.181818  1.727273  \n",
       "Kemi Amoo          0.853211  0.917431  \n",
       "Sophia Amuka       0.865861  1.849968  "
      ]
     },
     "execution_count": 631,
     "metadata": {},
     "output_type": "execute_result"
    }
   ],
   "source": [
    "link_df.groupby('Sent by')[['Impressions', 'Engagement Rate (per Impression)', 'Likes','Comments','Shares']].mean() "
   ]
  },
  {
   "cell_type": "code",
   "execution_count": 632,
   "metadata": {},
   "outputs": [
    {
     "data": {
      "text/plain": [
       "Wednesday    1791\n",
       "Monday       1158\n",
       "Tuesday      1151\n",
       "Friday       1146\n",
       "Thursday     1132\n",
       "Saturday      818\n",
       "Sunday        564\n",
       "Name: Weekday, dtype: int64"
      ]
     },
     "execution_count": 632,
     "metadata": {},
     "output_type": "execute_result"
    }
   ],
   "source": [
    "link_df['Weekday'].value_counts().sort_values(ascending=False)"
   ]
  },
  {
   "cell_type": "code",
   "execution_count": 633,
   "metadata": {},
   "outputs": [
    {
     "data": {
      "text/html": [
       "<div>\n",
       "<style scoped>\n",
       "    .dataframe tbody tr th:only-of-type {\n",
       "        vertical-align: middle;\n",
       "    }\n",
       "\n",
       "    .dataframe tbody tr th {\n",
       "        vertical-align: top;\n",
       "    }\n",
       "\n",
       "    .dataframe thead th {\n",
       "        text-align: right;\n",
       "    }\n",
       "</style>\n",
       "<table border=\"1\" class=\"dataframe\">\n",
       "  <thead>\n",
       "    <tr style=\"text-align: right;\">\n",
       "      <th></th>\n",
       "      <th>Impressions</th>\n",
       "      <th>Engagement Rate (per Impression)</th>\n",
       "      <th>Likes</th>\n",
       "      <th>Comments</th>\n",
       "      <th>Shares</th>\n",
       "    </tr>\n",
       "    <tr>\n",
       "      <th>Weekday</th>\n",
       "      <th></th>\n",
       "      <th></th>\n",
       "      <th></th>\n",
       "      <th></th>\n",
       "      <th></th>\n",
       "    </tr>\n",
       "  </thead>\n",
       "  <tbody>\n",
       "    <tr>\n",
       "      <th>Friday</th>\n",
       "      <td>1076.790649</td>\n",
       "      <td>5.213302</td>\n",
       "      <td>14.680208</td>\n",
       "      <td>1.156250</td>\n",
       "      <td>1.407292</td>\n",
       "    </tr>\n",
       "    <tr>\n",
       "      <th>Monday</th>\n",
       "      <td>1071.987915</td>\n",
       "      <td>7.269606</td>\n",
       "      <td>16.110101</td>\n",
       "      <td>1.143434</td>\n",
       "      <td>1.565657</td>\n",
       "    </tr>\n",
       "    <tr>\n",
       "      <th>Saturday</th>\n",
       "      <td>1114.868286</td>\n",
       "      <td>4.341884</td>\n",
       "      <td>15.898551</td>\n",
       "      <td>0.664032</td>\n",
       "      <td>1.277997</td>\n",
       "    </tr>\n",
       "    <tr>\n",
       "      <th>Sunday</th>\n",
       "      <td>1051.349854</td>\n",
       "      <td>3.830249</td>\n",
       "      <td>14.548757</td>\n",
       "      <td>0.900574</td>\n",
       "      <td>1.030593</td>\n",
       "    </tr>\n",
       "    <tr>\n",
       "      <th>Thursday</th>\n",
       "      <td>1164.716919</td>\n",
       "      <td>8.759372</td>\n",
       "      <td>17.385463</td>\n",
       "      <td>1.014317</td>\n",
       "      <td>1.317181</td>\n",
       "    </tr>\n",
       "    <tr>\n",
       "      <th>Tuesday</th>\n",
       "      <td>964.381531</td>\n",
       "      <td>9.400431</td>\n",
       "      <td>15.193846</td>\n",
       "      <td>0.741538</td>\n",
       "      <td>1.311795</td>\n",
       "    </tr>\n",
       "    <tr>\n",
       "      <th>Wednesday</th>\n",
       "      <td>1126.225098</td>\n",
       "      <td>8.875653</td>\n",
       "      <td>15.963846</td>\n",
       "      <td>2.004108</td>\n",
       "      <td>1.665571</td>\n",
       "    </tr>\n",
       "  </tbody>\n",
       "</table>\n",
       "</div>"
      ],
      "text/plain": [
       "           Impressions  Engagement Rate (per Impression)      Likes  Comments  \\\n",
       "Weekday                                                                         \n",
       "Friday     1076.790649                          5.213302  14.680208  1.156250   \n",
       "Monday     1071.987915                          7.269606  16.110101  1.143434   \n",
       "Saturday   1114.868286                          4.341884  15.898551  0.664032   \n",
       "Sunday     1051.349854                          3.830249  14.548757  0.900574   \n",
       "Thursday   1164.716919                          8.759372  17.385463  1.014317   \n",
       "Tuesday     964.381531                          9.400431  15.193846  0.741538   \n",
       "Wednesday  1126.225098                          8.875653  15.963846  2.004108   \n",
       "\n",
       "             Shares  \n",
       "Weekday              \n",
       "Friday     1.407292  \n",
       "Monday     1.565657  \n",
       "Saturday   1.277997  \n",
       "Sunday     1.030593  \n",
       "Thursday   1.317181  \n",
       "Tuesday    1.311795  \n",
       "Wednesday  1.665571  "
      ]
     },
     "execution_count": 633,
     "metadata": {},
     "output_type": "execute_result"
    }
   ],
   "source": [
    "link_df.groupby('Weekday')[['Impressions', 'Engagement Rate (per Impression)', 'Likes','Comments','Shares']].mean() "
   ]
  },
  {
   "cell_type": "markdown",
   "metadata": {},
   "source": [
    "## Statistical Analysis\n",
    "\n",
    "Using Analysis of Variance (ANOVA), this section checks if: \n",
    "+ There is a statistically significant difference in engagement rate across the different social media groups\n",
    "+ There is a statistically significant difference in engagement rate across the different content types for each social media group."
   ]
  },
  {
   "cell_type": "code",
   "execution_count": 634,
   "metadata": {},
   "outputs": [
    {
     "name": "stdout",
     "output_type": "stream",
     "text": [
      "Test Statistic :  34.0419\n",
      "P Value:  5.905215882790533e-22\n",
      "There is a significant difference between groups\n",
      "Instagram    5.198337\n",
      "Facebook     4.003146\n",
      "Linkdeln     7.173245\n",
      "Twitter      2.910116\n",
      "dtype: float32\n"
     ]
    }
   ],
   "source": [
    "insta_engagement = insta_df['Engagement Rate (per Impression)'].dropna()\n",
    "face_engagement = face_df['Engagement Rate (per Impression)'].dropna()\n",
    "link_engagement = link_df['Engagement Rate (per Impression)'].dropna()\n",
    "tweet_engagement = tweet_df['Engagement Rate (per Impression)'].dropna()\n",
    "\n",
    "result = f_oneway(insta_engagement, face_engagement, link_engagement, tweet_engagement)\n",
    "print (\"Test Statistic : \", round(result[0],4))\n",
    "print (\"P Value: \", result[1])\n",
    "\n",
    "if result[1] < 0.05:\n",
    "    print (\"There is a significant difference between groups\")\n",
    "else: \n",
    "    print (\"There is no significant difference\")\n",
    "\n",
    "engagement_socials = pd.Series({'Instagram': insta_engagement.mean(), 'Facebook' : face_engagement.mean(), \n",
    "                      'Linkdeln': link_engagement.mean(), 'Twitter': tweet_engagement.mean()})\n",
    "\n",
    "print (engagement_socials)\n"
   ]
  },
  {
   "cell_type": "code",
   "execution_count": 635,
   "metadata": {},
   "outputs": [
    {
     "name": "stdout",
     "output_type": "stream",
     "text": [
      "Test Statistic :  61\n",
      "P Value:  1.0773705220491855e-38 4\n",
      "There is a significant difference between groups\n"
     ]
    },
    {
     "data": {
      "text/plain": [
       "Content Type\n",
       "Link     2.197536\n",
       "Photo    2.983351\n",
       "Text     1.978822\n",
       "Video    3.689060\n",
       "Name: Engagement Rate (per Impression), dtype: float32"
      ]
     },
     "metadata": {},
     "output_type": "display_data"
    }
   ],
   "source": [
    "photo = tweet_df[tweet_df['Content Type'] == 'Photo']['Engagement Rate (per Impression)'].dropna()\n",
    "video = tweet_df[tweet_df['Content Type'] == 'Video']['Engagement Rate (per Impression)'].dropna()\n",
    "link = tweet_df[tweet_df['Content Type'] == 'Link']['Engagement Rate (per Impression)'].dropna()\n",
    "text = tweet_df[tweet_df['Content Type'] == 'Text']['Engagement Rate (per Impression)'].dropna()\n",
    "\n",
    "result = f_oneway(photo, video, link, text)\n",
    "\n",
    "print (\"Test Statistic : \", round(result[0]))\n",
    "print (\"P Value: \", result[1],4)\n",
    "\n",
    "if result[1] < 0.05:\n",
    "    print (\"There is a significant difference between groups\")\n",
    "else: \n",
    "    print (\"There is no significant difference\")\n",
    "\n",
    "\n",
    "display(tweet_df.groupby('Content Type')['Engagement Rate (per Impression)'].mean())"
   ]
  },
  {
   "cell_type": "code",
   "execution_count": 636,
   "metadata": {},
   "outputs": [
    {
     "name": "stdout",
     "output_type": "stream",
     "text": [
      "Test Statistic :  9\n",
      "P Value:  6.6550497293970426e-06 4\n",
      "There is a significant difference between groups\n"
     ]
    },
    {
     "data": {
      "text/plain": [
       "Content Type\n",
       "Link     4.049500\n",
       "Photo    3.573424\n",
       "Text     3.839925\n",
       "Video    7.127437\n",
       "Name: Engagement Rate (per Impression), dtype: float32"
      ]
     },
     "metadata": {},
     "output_type": "display_data"
    }
   ],
   "source": [
    "photo = face_df[face_df['Content Type'] == 'Photo']['Engagement Rate (per Impression)'].dropna()\n",
    "video = face_df[face_df['Content Type'] == 'Video']['Engagement Rate (per Impression)'].dropna()\n",
    "link = face_df[face_df['Content Type'] == 'Link']['Engagement Rate (per Impression)'].dropna()\n",
    "text = face_df[face_df['Content Type'] == 'Text']['Engagement Rate (per Impression)'].dropna()\n",
    "\n",
    "result = f_oneway(photo, video, link, text)\n",
    "\n",
    "print (\"Test Statistic : \", round(result[0]))\n",
    "print (\"P Value: \", result[1],4)\n",
    "\n",
    "if result[1] < 0.05:\n",
    "    print (\"There is a significant difference between groups\")\n",
    "else: \n",
    "    print (\"There is no significant difference\")\n",
    "\n",
    "\n",
    "display(face_df.groupby('Content Type')['Engagement Rate (per Impression)'].mean())"
   ]
  },
  {
   "cell_type": "code",
   "execution_count": 637,
   "metadata": {},
   "outputs": [
    {
     "name": "stdout",
     "output_type": "stream",
     "text": [
      "Test Statistic :  12.1698\n",
      "P Value:  5.2792522100375435e-06\n",
      "There is a significant difference between groups\n"
     ]
    },
    {
     "data": {
      "text/plain": [
       "Content Type\n",
       "Carousel    3.610428\n",
       "Photo       4.715106\n",
       "Video       9.786121\n",
       "Name: Engagement Rate (per Impression), dtype: float32"
      ]
     },
     "metadata": {},
     "output_type": "display_data"
    }
   ],
   "source": [
    "photo = insta_df[insta_df['Content Type'] == 'Photo']['Engagement Rate (per Impression)'].dropna()\n",
    "video = insta_df[insta_df['Content Type'] == 'Video']['Engagement Rate (per Impression)'].dropna()\n",
    "carousel = insta_df[insta_df['Content Type'] == 'Carousel']['Engagement Rate (per Impression)'].dropna()\n",
    "\n",
    "result = f_oneway(photo, video, carousel)\n",
    "\n",
    "print (\"Test Statistic : \", round(result[0],4))\n",
    "print (\"P Value: \", result[1])\n",
    "\n",
    "if result[1] < 0.05:\n",
    "    print (\"There is a significant difference between groups\")\n",
    "else: \n",
    "    print (\"There is no significant difference\")\n",
    "\n",
    "\n",
    "display(insta_df.groupby('Content Type')['Engagement Rate (per Impression)'].mean())"
   ]
  },
  {
   "cell_type": "code",
   "execution_count": 638,
   "metadata": {},
   "outputs": [
    {
     "name": "stdout",
     "output_type": "stream",
     "text": [
      "Test Statistic :  8\n",
      "P Value:  4.481741911204625e-05 4\n",
      "There is a significant difference between groups\n"
     ]
    },
    {
     "data": {
      "text/plain": [
       "Content Type\n",
       "Document    18.080000\n",
       "Link        24.847187\n",
       "Photo        7.976286\n",
       "Poll         2.730000\n",
       "Text         3.562163\n",
       "Video        2.433062\n",
       "Name: Engagement Rate (per Impression), dtype: float32"
      ]
     },
     "metadata": {},
     "output_type": "display_data"
    }
   ],
   "source": [
    "photo = link_df[link_df['Content Type'] == 'Photo']['Engagement Rate (per Impression)'].dropna()\n",
    "video = link_df[link_df['Content Type'] == 'Video']['Engagement Rate (per Impression)'].dropna()\n",
    "link = link_df[link_df['Content Type'] == 'Link']['Engagement Rate (per Impression)'].dropna()\n",
    "text = link_df[link_df['Content Type'] == 'Text']['Engagement Rate (per Impression)'].dropna()\n",
    "poll = link_df[link_df['Content Type'] == 'Poll']['Engagement Rate (per Impression)'].dropna()\n",
    "document = link_df[link_df['Content Type'] == 'Document']['Engagement Rate (per Impression)'].dropna()\n",
    "result = f_oneway(photo, video, link, text)\n",
    "\n",
    "print (\"Test Statistic : \", round(result[0]))\n",
    "print (\"P Value: \", result[1],4)\n",
    "\n",
    "if result[1] < 0.05:\n",
    "    print (\"There is a significant difference between groups\")\n",
    "else: \n",
    "    print (\"There is no significant difference\")\n",
    "\n",
    "\n",
    "display(link_df.groupby('Content Type')['Engagement Rate (per Impression)'].mean())"
   ]
  },
  {
   "cell_type": "markdown",
   "metadata": {},
   "source": [
    "## Time Series Analysis & Forecasting\n",
    "\n",
    "This section analyzes the trend in the data (monthly data) and attempts to forecast future values as well using tools such as auto arima, arima and adfuller test among others. "
   ]
  },
  {
   "cell_type": "code",
   "execution_count": 639,
   "metadata": {},
   "outputs": [],
   "source": [
    "def month_aggregation (df, value):\n",
    "    '''\n",
    "    This function returns the monthly sum of the value specified. \n",
    "    '''\n",
    "    \n",
    "    new_df = pd.DataFrame()\n",
    "    df['year_month'] = df['Date'].dt.strftime('%Y-%m')\n",
    "    values = df.groupby('year_month')[value].sum()\n",
    "    new_df['Year'] = values.index\n",
    "    new_df['Values'] = values.values\n",
    "    new_df['Year'] = pd.to_datetime(new_df['Year'], format = ('%Y-%m'))\n",
    "    return new_df"
   ]
  },
  {
   "cell_type": "code",
   "execution_count": 640,
   "metadata": {},
   "outputs": [],
   "source": [
    "def plot_line(new_df, label):\n",
    "\n",
    "    '''\n",
    "    This function produces a customized line plot of the time series monthly data.\n",
    "    '''\n",
    "    \n",
    "    fig, ax = plt.subplots(figsize = (6,4))\n",
    "    ax.xaxis.set_major_formatter(mdates.DateFormatter('%Y'))\n",
    "    ax.xaxis.set_major_locator(mdates.YearLocator())\n",
    "\n",
    "    ax.plot(new_df['Year'], new_df['Values'])\n",
    "    plt.xticks(rotation=45)\n",
    "\n",
    "    ax.yaxis.get_major_formatter().set_scientific(False)\n",
    "    ax.yaxis.get_major_formatter().set_useOffset(False)\n",
    "\n",
    "    ax.set_ylabel(label)\n",
    "    ax.set_title('Line Plot showing trend in ' + str(label))\n",
    "\n",
    "\n",
    "    # Show the plot\n",
    "    plt.show()"
   ]
  },
  {
   "cell_type": "code",
   "execution_count": 641,
   "metadata": {},
   "outputs": [],
   "source": [
    "def adf_test (new_df,differencing = 0):\n",
    "\n",
    "    '''\n",
    "    This function tests for stationarity using the augmented dickey fuller test and plots the corresponding \n",
    "    autocorrelation and partial autocorrelation plots of the data. \n",
    "    \n",
    "    '''\n",
    "    \n",
    "    if differencing > 0: \n",
    "        for i in range(differencing):\n",
    "            new_df['Values'] = new_df['Values'].diff(differencing)\n",
    "    \n",
    "    new_df = new_df.dropna()\n",
    "            \n",
    "    print (f'Differencing: {differencing}')\n",
    "    result = adfuller(new_df['Values'])\n",
    "    print(f'ADF Statistic: {round(result[0],4)}')\n",
    "    print (f'P-value: {result[1]}')\n",
    "    if result[1] < 0.05:\n",
    "        print (\"The time series is likely stationary\")\n",
    "    else:\n",
    "        print (\"The time series is not likely stationary\")\n",
    "    \n",
    "    plot_acf(new_df['Values'])\n",
    "    plot_pacf(new_df['Values'])"
   ]
  },
  {
   "cell_type": "code",
   "execution_count": 642,
   "metadata": {},
   "outputs": [],
   "source": [
    "def forecast_values(new_df, d, p, q):\n",
    "        \n",
    "        '''\n",
    "        This function manually seeks to find the best ARIMA for forecasting. It attempts to forecast for the next 12 months. \n",
    "\n",
    "        Input : new_df : Data to be forecasted (ideally a month-based dataset)\n",
    "                p,d,q : The proposed order of the ARIMA model\n",
    "        \n",
    "        Output : \n",
    "        Model Summary containing the details of the ARIMA model \n",
    "        RMSE Containing the accuracy of the model using Root Mean Squared Error\n",
    "        A line plot showing some past data and the forecast data for the next 12 months\n",
    "        '''\n",
    "        new_df = new_df.set_index(\"Year\")\n",
    "        size = new_df.shape[0]\n",
    "        train = new_df[: int(size *0.8)]\n",
    "        test = new_df[int(size * 0.8) :]\n",
    "\n",
    "        model = ARIMA(train, order=(p, d, q))\n",
    "\n",
    "        results = model.fit()\n",
    "        forecast_intial_result = results.forecast(steps=len(test))\n",
    "        rmse = np.sqrt(mean_squared_error(test, forecast_intial_result))\n",
    "\n",
    "        # Forecast for the next 12 months\n",
    "        results = ARIMA(new_df, order = (p,d,q)).fit()\n",
    "        forecast_result = results.forecast(steps=12)\n",
    "        index = pd.date_range(start=test.index[-1], periods=13, freq='M')[1:]\n",
    "        forecast_df = pd.DataFrame({'Year': index, 'Value': forecast_result})\n",
    "\n",
    "        #Print Forecast Results\n",
    "        print(f'RMSE: {rmse}')\n",
    "        print (results.summary())\n",
    "\n",
    "        #Plot forecast results\n",
    "        plt.figure(figsize = (10,5))\n",
    "        plt.plot(new_df['Values'][80:], label = \"Past Data\")\n",
    "        plt.plot(forecast_df['Year'], forecast_df['Value'], label = \"Future Forecast\", color = 'orange')\n",
    "        plt.title (\"Time Series Forecasting (12 Months)\")\n",
    "        plt.legend()\n",
    "        plt.show()\n"
   ]
  },
  {
   "cell_type": "code",
   "execution_count": 643,
   "metadata": {},
   "outputs": [],
   "source": [
    "def arima_forecast(new_df):\n",
    "  '''\n",
    "  This function automatically finds the best ARIMA model for forecasting by iterating through and picking the best model.\n",
    "  It attempts to forecast for the next 12 months. \n",
    "\n",
    "  Input : new_df : Data to be forecasted (ideally a month-based dataset)\n",
    "  \n",
    "  Output : \n",
    "  Model Summary containing the details of the ARIMA model\n",
    "  The best model from a list of possible model combinations\n",
    "  A line plot showing some past data and the forecast data for the next 12 months\n",
    "  '''\n",
    "  new_df = new_df.set_index(\"Year\")\n",
    "  size = new_df.shape[0]\n",
    "    \n",
    "  results = auto_arima(new_df, stepwise=True, trace = True)\n",
    "\n",
    "  # Forecast for the next 12 months\n",
    "  forecast_result = results.predict(n_periods=12)\n",
    "  index = pd.date_range(start=new_df.index[-1], periods=13, freq='M')[1:]\n",
    "  forecast_df = pd.DataFrame({'Year': index, 'Value': forecast_result})\n",
    "  print (forecast_df)\n",
    "\n",
    "  #Print Forecast Results\n",
    "  print (results.summary())\n",
    "\n",
    "  #Plot forecast results\n",
    "  plt.figure(figsize = (10,5))\n",
    "  plt.plot(new_df['Values'][80:], label = \"Past Data\")\n",
    "  plt.plot(forecast_df['Year'], forecast_df['Value'], label = \"Future Forecast\", color = 'orange')\n",
    "  plt.title (\"Time Series Forecasting (12 Months)\")\n",
    "  plt.legend()\n",
    "  plt.show()"
   ]
  },
  {
   "cell_type": "markdown",
   "metadata": {},
   "source": [
    "### Twitter"
   ]
  },
  {
   "cell_type": "code",
   "execution_count": 644,
   "metadata": {},
   "outputs": [
    {
     "data": {
      "image/png": "[encoded data removed]",
      "text/plain": [
       "<Figure size 600x400 with 1 Axes>"
      ]
     },
     "metadata": {},
     "output_type": "display_data"
    },
    {
     "name": "stdout",
     "output_type": "stream",
     "text": [
      "Differencing: 0\n",
      "ADF Statistic: -2.91\n",
      "P-value: 0.04420155444269903\n",
      "The time series is likely stationary\n",
      "Performing stepwise search to minimize aic\n"
     ]
    },
    {
     "name": "stdout",
     "output_type": "stream",
     "text": [
      " ARIMA(2,1,2)(0,0,0)[0] intercept   : AIC=2950.471, Time=1.36 sec\n",
      " ARIMA(0,1,0)(0,0,0)[0] intercept   : AIC=2950.569, Time=0.08 sec\n",
      " ARIMA(1,1,0)(0,0,0)[0] intercept   : AIC=2950.749, Time=0.07 sec\n",
      " ARIMA(0,1,1)(0,0,0)[0] intercept   : AIC=2949.955, Time=0.23 sec\n",
      " ARIMA(0,1,0)(0,0,0)[0]             : AIC=2948.578, Time=0.11 sec\n",
      " ARIMA(1,1,1)(0,0,0)[0] intercept   : AIC=2946.722, Time=0.28 sec\n",
      " ARIMA(2,1,1)(0,0,0)[0] intercept   : AIC=2948.475, Time=0.23 sec\n",
      " ARIMA(1,1,2)(0,0,0)[0] intercept   : AIC=2949.154, Time=0.37 sec\n",
      " ARIMA(0,1,2)(0,0,0)[0] intercept   : AIC=2948.207, Time=0.19 sec\n",
      " ARIMA(2,1,0)(0,0,0)[0] intercept   : AIC=2950.216, Time=0.13 sec\n",
      " ARIMA(1,1,1)(0,0,0)[0]             : AIC=2944.385, Time=0.11 sec\n",
      " ARIMA(0,1,1)(0,0,0)[0]             : AIC=2947.967, Time=0.06 sec\n",
      " ARIMA(1,1,0)(0,0,0)[0]             : AIC=2948.757, Time=0.03 sec\n",
      " ARIMA(2,1,1)(0,0,0)[0]             : AIC=2946.313, Time=0.17 sec\n",
      " ARIMA(1,1,2)(0,0,0)[0]             : AIC=2946.342, Time=0.21 sec\n",
      " ARIMA(0,1,2)(0,0,0)[0]             : AIC=2946.247, Time=0.09 sec\n",
      " ARIMA(2,1,0)(0,0,0)[0]             : AIC=2948.234, Time=0.08 sec\n",
      " ARIMA(2,1,2)(0,0,0)[0]             : AIC=2948.325, Time=0.40 sec\n",
      "\n",
      "Best model:  ARIMA(1,1,1)(0,0,0)[0]          \n",
      "Total fit time: 4.264 seconds\n",
      "          Year          Value\n",
      "114 2023-08-31  126290.006326\n",
      "115 2023-09-30  154901.741211\n",
      "116 2023-10-31  174090.060170\n",
      "117 2023-11-30  186958.611692\n",
      "118 2023-12-31  195588.842334\n",
      "119 2024-01-31  201376.663972\n",
      "120 2024-02-29  205258.238022\n",
      "121 2024-03-31  207861.396524\n",
      "122 2024-04-30  209607.191942\n",
      "123 2024-05-31  210778.001033\n",
      "124 2024-06-30  211563.198378\n",
      "125 2024-07-31  212089.787107\n",
      "                               SARIMAX Results                                \n",
      "==============================================================================\n",
      "Dep. Variable:                      y   No. Observations:                  114\n",
      "Model:               SARIMAX(1, 1, 1)   Log Likelihood               -1469.192\n",
      "Date:                Sun, 24 Sep 2023   AIC                           2944.385\n",
      "Time:                        01:13:17   BIC                           2952.567\n",
      "Sample:                             0   HQIC                          2947.705\n",
      "                                - 114                                         \n",
      "Covariance Type:                  opg                                         \n",
      "==============================================================================\n",
      "                 coef    std err          z      P>|z|      [0.025      0.975]\n",
      "------------------------------------------------------------------------------\n",
      "ar.L1          0.6706      0.121      5.531      0.000       0.433       0.908\n",
      "ma.L1         -0.8806      0.091     -9.644      0.000      -1.060      -0.702\n",
      "sigma2      1.221e+10   2.69e-13   4.55e+22      0.000    1.22e+10    1.22e+10\n",
      "===================================================================================\n",
      "Ljung-Box (L1) (Q):                   0.01   Jarque-Bera (JB):               279.95\n",
      "Prob(Q):                              0.92   Prob(JB):                         0.00\n",
      "Heteroskedasticity (H):              16.26   Skew:                             1.20\n",
      "Prob(H) (two-sided):                  0.00   Kurtosis:                        10.33\n",
      "===================================================================================\n",
      "\n",
      "Warnings:\n",
      "[1] Covariance matrix calculated using the outer product of gradients (complex-step).\n",
      "[2] Covariance matrix is singular or near-singular, with condition number 1.3e+38. Standard errors may be unstable.\n"
     ]
    },
    {
     "data": {
      "image/png": "[encoded data removed]",
      "text/plain": [
       "<Figure size 640x480 with 1 Axes>"
      ]
     },
     "metadata": {},
     "output_type": "display_data"
    },
    {
     "data": {
      "image/png": "[encoded data removed]",
      "text/plain": [
       "<Figure size 640x480 with 1 Axes>"
      ]
     },
     "metadata": {},
     "output_type": "display_data"
    },
    {
     "data": {
      "image/png": "[encoded data removed]",
      "text/plain": [
       "<Figure size 1000x500 with 1 Axes>"
      ]
     },
     "metadata": {},
     "output_type": "display_data"
    }
   ],
   "source": [
    "data = month_aggregation(tweet_df, \"Impressions\")\n",
    "plot_line(data, label = \"Impressions\")\n",
    "adf_test(data, differencing=0)\n",
    "arima_forecast(data)"
   ]
  },
  {
   "cell_type": "code",
   "execution_count": 645,
   "metadata": {},
   "outputs": [
    {
     "data": {
      "image/png": "[encoded data removed]",
      "text/plain": [
       "<Figure size 600x400 with 1 Axes>"
      ]
     },
     "metadata": {},
     "output_type": "display_data"
    },
    {
     "name": "stdout",
     "output_type": "stream",
     "text": [
      "Differencing: 0\n",
      "ADF Statistic: -1.4608\n",
      "P-value: 0.5528201697921736\n",
      "The time series is not likely stationary\n",
      "Performing stepwise search to minimize aic\n",
      " ARIMA(2,1,2)(0,0,0)[0] intercept   : AIC=inf, Time=1.36 sec\n",
      " ARIMA(0,1,0)(0,0,0)[0] intercept   : AIC=1372.300, Time=0.04 sec\n",
      " ARIMA(1,1,0)(0,0,0)[0] intercept   : AIC=1358.097, Time=0.14 sec\n",
      " ARIMA(0,1,1)(0,0,0)[0] intercept   : AIC=1348.650, Time=0.39 sec\n",
      " ARIMA(0,1,0)(0,0,0)[0]             : AIC=1370.335, Time=0.12 sec\n",
      " ARIMA(1,1,1)(0,0,0)[0] intercept   : AIC=inf, Time=0.50 sec\n",
      " ARIMA(0,1,2)(0,0,0)[0] intercept   : AIC=1347.396, Time=0.46 sec\n",
      " ARIMA(1,1,2)(0,0,0)[0] intercept   : AIC=inf, Time=0.61 sec\n",
      " ARIMA(0,1,3)(0,0,0)[0] intercept   : AIC=inf, Time=0.56 sec\n",
      " ARIMA(1,1,3)(0,0,0)[0] intercept   : AIC=1348.442, Time=0.86 sec\n",
      " ARIMA(0,1,2)(0,0,0)[0]             : AIC=1347.383, Time=0.18 sec\n",
      " ARIMA(0,1,1)(0,0,0)[0]             : AIC=1347.547, Time=0.14 sec\n",
      " ARIMA(1,1,2)(0,0,0)[0]             : AIC=1347.983, Time=0.42 sec\n",
      " ARIMA(0,1,3)(0,0,0)[0]             : AIC=1346.192, Time=0.31 sec\n",
      " ARIMA(1,1,3)(0,0,0)[0]             : AIC=1347.774, Time=0.50 sec\n",
      " ARIMA(0,1,4)(0,0,0)[0]             : AIC=1347.492, Time=0.48 sec\n",
      " ARIMA(1,1,4)(0,0,0)[0]             : AIC=1349.467, Time=1.16 sec\n",
      "\n",
      "Best model:  ARIMA(0,1,3)(0,0,0)[0]          \n",
      "Total fit time: 8.279 seconds\n",
      "          Year       Value\n",
      "114 2023-08-31  293.251127\n",
      "115 2023-09-30  308.565775\n",
      "116 2023-10-31  349.775136\n",
      "117 2023-11-30  349.775136\n",
      "118 2023-12-31  349.775136\n",
      "119 2024-01-31  349.775136\n",
      "120 2024-02-29  349.775136\n",
      "121 2024-03-31  349.775136\n",
      "122 2024-04-30  349.775136\n",
      "123 2024-05-31  349.775136\n",
      "124 2024-06-30  349.775136\n",
      "125 2024-07-31  349.775136\n",
      "                               SARIMAX Results                                \n",
      "==============================================================================\n",
      "Dep. Variable:                      y   No. Observations:                  114\n",
      "Model:               SARIMAX(0, 1, 3)   Log Likelihood                -669.096\n",
      "Date:                Sun, 24 Sep 2023   AIC                           1346.192\n",
      "Time:                        01:13:28   BIC                           1357.101\n",
      "Sample:                             0   HQIC                          1350.619\n",
      "                                - 114                                         \n",
      "Covariance Type:                  opg                                         \n",
      "==============================================================================\n",
      "                 coef    std err          z      P>|z|      [0.025      0.975]\n",
      "------------------------------------------------------------------------------\n",
      "ma.L1         -0.5036      0.080     -6.303      0.000      -0.660      -0.347\n",
      "ma.L2         -0.0516      0.098     -0.524      0.600      -0.245       0.141\n",
      "ma.L3         -0.1946      0.099     -1.957      0.050      -0.390       0.000\n",
      "sigma2      8091.7102    869.353      9.308      0.000    6387.810    9795.610\n",
      "===================================================================================\n",
      "Ljung-Box (L1) (Q):                   0.21   Jarque-Bera (JB):                20.70\n",
      "Prob(Q):                              0.65   Prob(JB):                         0.00\n",
      "Heteroskedasticity (H):              11.99   Skew:                             0.23\n",
      "Prob(H) (two-sided):                  0.00   Kurtosis:                         5.05\n",
      "===================================================================================\n",
      "\n",
      "Warnings:\n",
      "[1] Covariance matrix calculated using the outer product of gradients (complex-step).\n"
     ]
    },
    {
     "data": {
      "image/png": "[encoded data removed]",
      "text/plain": [
       "<Figure size 640x480 with 1 Axes>"
      ]
     },
     "metadata": {},
     "output_type": "display_data"
    },
    {
     "data": {
      "image/png": "[encoded data removed]",
      "text/plain": [
       "<Figure size 640x480 with 1 Axes>"
      ]
     },
     "metadata": {},
     "output_type": "display_data"
    },
    {
     "data": {
      "image/png": "[encoded data removed]",
      "text/plain": [
       "<Figure size 1000x500 with 1 Axes>"
      ]
     },
     "metadata": {},
     "output_type": "display_data"
    }
   ],
   "source": [
    "data = month_aggregation(tweet_df, \"Engagement Rate (per Impression)\")\n",
    "plot_line(data, label = \"Engagement Rate (per Impression)\")\n",
    "adf_test(data, differencing=0)\n",
    "arima_forecast(data)"
   ]
  }
 ],
 "metadata": {
  "kernelspec": {
   "display_name": "base",
   "language": "python",
   "name": "python3"
  },
  "language_info": {
   "codemirror_mode": {
    "name": "ipython",
    "version": 3
   },
   "file_extension": ".py",
   "mimetype": "text/x-python",
   "name": "python",
   "nbconvert_exporter": "python",
   "pygments_lexer": "ipython3",
   "version": "3.11.3"
  },
  "orig_nbformat": 4
 },
 "nbformat": 4,
 "nbformat_minor": 2
}
